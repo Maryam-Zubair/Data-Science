{
  "cells": [
    {
      "cell_type": "markdown",
      "metadata": {
        "id": "view-in-github",
        "colab_type": "text"
      },
      "source": [
        "<a href=\"https://colab.research.google.com/github/Maryam-Zubair/Data-Science/blob/main/AHD.ipynb\" target=\"_parent\"><img src=\"https://colab.research.google.com/assets/colab-badge.svg\" alt=\"Open In Colab\"/></a>"
      ]
    },
    {
      "cell_type": "code",
      "execution_count": null,
      "id": "e68e10a9-bc68-4785-8eec-31c2f6d7c4df",
      "metadata": {
        "id": "e68e10a9-bc68-4785-8eec-31c2f6d7c4df"
      },
      "outputs": [],
      "source": [
        "from sklearn.linear_model import LogisticRegression\n",
        "from sklearn.model_selection import train_test_split\n",
        "from sklearn.preprocessing import StandardScaler\n",
        "from sklearn.datasets import load_digits\n",
        "from sklearn.neighbors import KNeighborsClassifier\n",
        "import numpy as np\n",
        "\n",
        "\n",
        "import pandas as pd\n",
        "mydata = pd.read_csv('/content/Heart.csv')"
      ]
    },
    {
      "cell_type": "markdown",
      "id": "c749914e-2425-461f-8abc-4a39d1dfd531",
      "metadata": {
        "id": "c749914e-2425-461f-8abc-4a39d1dfd531"
      },
      "source": [
        "# Instructions:\n",
        "- We are trying to predict who will have AHD based on Age and MaxHAR. To do so we need to:\n",
        "- Read the `Heart.csv` as a data frame and split into train and test.\n",
        "- Assign the predictor and response variables.\n",
        "- Fit logistic regression models and interpret results\n",
        "- Compute the accuracy of the model.\n",
        "- Plot the classification boundaries against the two predictors\n",
        "- Fit an untuned regularized logistic regression model and compare the classification boundary\n",
        "\n",
        "# Hints:\n",
        "<a href=\"https://scikit-learn.org/stable/modules/generated/sklearn.linear_model.LogisticRegression.html\" target=\"_blank\">sklearn.LogisticRegression()</a> : Generates a Logistic Regression classifier\n",
        "\n",
        "<a href=\"https://scikit-learn.org/stable/modules/generated/sklearn.linear_model.LogisticRegression.html#sklearn.linear_model.LogisticRegression.fit\" target=\"_blank\">sklearn.fit()</a> : Fits the model to the given data\n",
        "\n",
        "<a href=\"https://scikit-learn.org/stable/modules/generated/sklearn.linear_model.LogisticRegression.html#sklearn.linear_model.LogisticRegression.predict\" target=\"_blank\">sklearn.predict()</a> : Predict using the estimated model (Logistic or knn classifiers) to perform pure classification predictions\n",
        "\n",
        "<a href=\"https://scikit-learn.org/stable/modules/generated/sklearn.linear_model.LogisticRegression.html#sklearn.linear_model.LogisticRegression.predict_proba\" target=\"_blank\">sklearn.predict_proba()</a> : Predict using the estimated model (Logistic or knn classifiers) to perform probability predictions of all the classes in the response (they should add up to 1 for each observation)\n",
        "\n",
        "<a href=\"https://scikit-learn.org/stable/modules/generated/sklearn.linear_model.LogisticRegression.html\" target=\"_blank\">sklearn.LogisticRegression.coef_ and .intercept_</a> : Pull off the estimated $\\beta$ coefficients in a Logistic Regression model\n",
        "\n",
        "<a href=\"https://scikit-learn.org/stable/modules/generated/sklearn.linear_model.LogisticRegression.html#sklearn.linear_model.LogisticRegression.score\" target=\"_blank\">sklearn.score()</a> : Accuracy classification score.\n",
        "\n",
        "<a href=\"https://scikit-learn.org/stable/modules/generated/sklearn.metrics.accuracy_score.html\" target=\"_blank\">sklearn.accuracy_score()</a> : Accuracy classification score\n",
        "\n",
        "<a href=\"https://matplotlib.org/3.3.2/api/_as_gen/matplotlib.pyplot.pcolormesh.html\" target=\"_blank\">matplotlib.pcolormesh()</a> : Accuracy classification score"
      ]
    },
    {
      "cell_type": "code",
      "execution_count": null,
      "id": "1c011fc9-b7d2-4aa3-aee8-f6432a0be5c0",
      "metadata": {
        "id": "1c011fc9-b7d2-4aa3-aee8-f6432a0be5c0"
      },
      "outputs": [],
      "source": [
        "import pandas as pd\n",
        "import numpy as np\n",
        "import sklearn as sk\n",
        "import matplotlib.pyplot as plt\n",
        "%matplotlib inline\n",
        "\n",
        "from sklearn.model_selection import train_test_split\n",
        "from sklearn.linear_model import LogisticRegression\n",
        "from sklearn.preprocessing import PolynomialFeatures"
      ]
    },
    {
      "cell_type": "markdown",
      "id": "ae1d5082-a00f-48a5-86b2-51255277245d",
      "metadata": {
        "id": "ae1d5082-a00f-48a5-86b2-51255277245d"
      },
      "source": [
        "- Read the Heart.csv dataset, force the response (AHD) into a binary indicator\n",
        "- Print the shape and check the data with 'describe'\n",
        "- Split the data into train and test, keep a 30% ratio for the test dataset. Set the random seed to 109"
      ]
    },
    {
      "cell_type": "code",
      "execution_count": null,
      "id": "4fd96576-2f00-4073-9a81-a14fa45ef673",
      "metadata": {
        "colab": {
          "base_uri": "https://localhost:8080/",
          "height": 244
        },
        "id": "4fd96576-2f00-4073-9a81-a14fa45ef673",
        "outputId": "0c41c736-ac1d-4a6a-f9d2-33ed19d2d0b7"
      },
      "outputs": [
        {
          "output_type": "execute_result",
          "data": {
            "text/plain": [
              "   Unnamed: 0  Age  Sex     ChestPain  RestBP  Chol  Fbs  RestECG  MaxHR  \\\n",
              "0           1   63    1       typical     145   233    1        2    150   \n",
              "1           2   67    1  asymptomatic     160   286    0        2    108   \n",
              "2           3   67    1  asymptomatic     120   229    0        2    129   \n",
              "3           4   37    1    nonanginal     130   250    0        0    187   \n",
              "4           5   41    0    nontypical     130   204    0        2    172   \n",
              "\n",
              "   ExAng  Oldpeak  Slope   Ca        Thal  AHD  \n",
              "0      0      2.3      3  0.0       fixed   No  \n",
              "1      1      1.5      2  3.0      normal  Yes  \n",
              "2      1      2.6      2  2.0  reversable  Yes  \n",
              "3      0      3.5      3  0.0      normal   No  \n",
              "4      0      1.4      1  0.0      normal   No  "
            ],
            "text/html": [
              "\n",
              "  <div id=\"df-202612e3-de85-4d5b-b74e-a7ea599abe34\" class=\"colab-df-container\">\n",
              "    <div>\n",
              "<style scoped>\n",
              "    .dataframe tbody tr th:only-of-type {\n",
              "        vertical-align: middle;\n",
              "    }\n",
              "\n",
              "    .dataframe tbody tr th {\n",
              "        vertical-align: top;\n",
              "    }\n",
              "\n",
              "    .dataframe thead th {\n",
              "        text-align: right;\n",
              "    }\n",
              "</style>\n",
              "<table border=\"1\" class=\"dataframe\">\n",
              "  <thead>\n",
              "    <tr style=\"text-align: right;\">\n",
              "      <th></th>\n",
              "      <th>Unnamed: 0</th>\n",
              "      <th>Age</th>\n",
              "      <th>Sex</th>\n",
              "      <th>ChestPain</th>\n",
              "      <th>RestBP</th>\n",
              "      <th>Chol</th>\n",
              "      <th>Fbs</th>\n",
              "      <th>RestECG</th>\n",
              "      <th>MaxHR</th>\n",
              "      <th>ExAng</th>\n",
              "      <th>Oldpeak</th>\n",
              "      <th>Slope</th>\n",
              "      <th>Ca</th>\n",
              "      <th>Thal</th>\n",
              "      <th>AHD</th>\n",
              "    </tr>\n",
              "  </thead>\n",
              "  <tbody>\n",
              "    <tr>\n",
              "      <th>0</th>\n",
              "      <td>1</td>\n",
              "      <td>63</td>\n",
              "      <td>1</td>\n",
              "      <td>typical</td>\n",
              "      <td>145</td>\n",
              "      <td>233</td>\n",
              "      <td>1</td>\n",
              "      <td>2</td>\n",
              "      <td>150</td>\n",
              "      <td>0</td>\n",
              "      <td>2.3</td>\n",
              "      <td>3</td>\n",
              "      <td>0.0</td>\n",
              "      <td>fixed</td>\n",
              "      <td>No</td>\n",
              "    </tr>\n",
              "    <tr>\n",
              "      <th>1</th>\n",
              "      <td>2</td>\n",
              "      <td>67</td>\n",
              "      <td>1</td>\n",
              "      <td>asymptomatic</td>\n",
              "      <td>160</td>\n",
              "      <td>286</td>\n",
              "      <td>0</td>\n",
              "      <td>2</td>\n",
              "      <td>108</td>\n",
              "      <td>1</td>\n",
              "      <td>1.5</td>\n",
              "      <td>2</td>\n",
              "      <td>3.0</td>\n",
              "      <td>normal</td>\n",
              "      <td>Yes</td>\n",
              "    </tr>\n",
              "    <tr>\n",
              "      <th>2</th>\n",
              "      <td>3</td>\n",
              "      <td>67</td>\n",
              "      <td>1</td>\n",
              "      <td>asymptomatic</td>\n",
              "      <td>120</td>\n",
              "      <td>229</td>\n",
              "      <td>0</td>\n",
              "      <td>2</td>\n",
              "      <td>129</td>\n",
              "      <td>1</td>\n",
              "      <td>2.6</td>\n",
              "      <td>2</td>\n",
              "      <td>2.0</td>\n",
              "      <td>reversable</td>\n",
              "      <td>Yes</td>\n",
              "    </tr>\n",
              "    <tr>\n",
              "      <th>3</th>\n",
              "      <td>4</td>\n",
              "      <td>37</td>\n",
              "      <td>1</td>\n",
              "      <td>nonanginal</td>\n",
              "      <td>130</td>\n",
              "      <td>250</td>\n",
              "      <td>0</td>\n",
              "      <td>0</td>\n",
              "      <td>187</td>\n",
              "      <td>0</td>\n",
              "      <td>3.5</td>\n",
              "      <td>3</td>\n",
              "      <td>0.0</td>\n",
              "      <td>normal</td>\n",
              "      <td>No</td>\n",
              "    </tr>\n",
              "    <tr>\n",
              "      <th>4</th>\n",
              "      <td>5</td>\n",
              "      <td>41</td>\n",
              "      <td>0</td>\n",
              "      <td>nontypical</td>\n",
              "      <td>130</td>\n",
              "      <td>204</td>\n",
              "      <td>0</td>\n",
              "      <td>2</td>\n",
              "      <td>172</td>\n",
              "      <td>0</td>\n",
              "      <td>1.4</td>\n",
              "      <td>1</td>\n",
              "      <td>0.0</td>\n",
              "      <td>normal</td>\n",
              "      <td>No</td>\n",
              "    </tr>\n",
              "  </tbody>\n",
              "</table>\n",
              "</div>\n",
              "    <div class=\"colab-df-buttons\">\n",
              "\n",
              "  <div class=\"colab-df-container\">\n",
              "    <button class=\"colab-df-convert\" onclick=\"convertToInteractive('df-202612e3-de85-4d5b-b74e-a7ea599abe34')\"\n",
              "            title=\"Convert this dataframe to an interactive table.\"\n",
              "            style=\"display:none;\">\n",
              "\n",
              "  <svg xmlns=\"http://www.w3.org/2000/svg\" height=\"24px\" viewBox=\"0 -960 960 960\">\n",
              "    <path d=\"M120-120v-720h720v720H120Zm60-500h600v-160H180v160Zm220 220h160v-160H400v160Zm0 220h160v-160H400v160ZM180-400h160v-160H180v160Zm440 0h160v-160H620v160ZM180-180h160v-160H180v160Zm440 0h160v-160H620v160Z\"/>\n",
              "  </svg>\n",
              "    </button>\n",
              "\n",
              "  <style>\n",
              "    .colab-df-container {\n",
              "      display:flex;\n",
              "      gap: 12px;\n",
              "    }\n",
              "\n",
              "    .colab-df-convert {\n",
              "      background-color: #E8F0FE;\n",
              "      border: none;\n",
              "      border-radius: 50%;\n",
              "      cursor: pointer;\n",
              "      display: none;\n",
              "      fill: #1967D2;\n",
              "      height: 32px;\n",
              "      padding: 0 0 0 0;\n",
              "      width: 32px;\n",
              "    }\n",
              "\n",
              "    .colab-df-convert:hover {\n",
              "      background-color: #E2EBFA;\n",
              "      box-shadow: 0px 1px 2px rgba(60, 64, 67, 0.3), 0px 1px 3px 1px rgba(60, 64, 67, 0.15);\n",
              "      fill: #174EA6;\n",
              "    }\n",
              "\n",
              "    .colab-df-buttons div {\n",
              "      margin-bottom: 4px;\n",
              "    }\n",
              "\n",
              "    [theme=dark] .colab-df-convert {\n",
              "      background-color: #3B4455;\n",
              "      fill: #D2E3FC;\n",
              "    }\n",
              "\n",
              "    [theme=dark] .colab-df-convert:hover {\n",
              "      background-color: #434B5C;\n",
              "      box-shadow: 0px 1px 3px 1px rgba(0, 0, 0, 0.15);\n",
              "      filter: drop-shadow(0px 1px 2px rgba(0, 0, 0, 0.3));\n",
              "      fill: #FFFFFF;\n",
              "    }\n",
              "  </style>\n",
              "\n",
              "    <script>\n",
              "      const buttonEl =\n",
              "        document.querySelector('#df-202612e3-de85-4d5b-b74e-a7ea599abe34 button.colab-df-convert');\n",
              "      buttonEl.style.display =\n",
              "        google.colab.kernel.accessAllowed ? 'block' : 'none';\n",
              "\n",
              "      async function convertToInteractive(key) {\n",
              "        const element = document.querySelector('#df-202612e3-de85-4d5b-b74e-a7ea599abe34');\n",
              "        const dataTable =\n",
              "          await google.colab.kernel.invokeFunction('convertToInteractive',\n",
              "                                                    [key], {});\n",
              "        if (!dataTable) return;\n",
              "\n",
              "        const docLinkHtml = 'Like what you see? Visit the ' +\n",
              "          '<a target=\"_blank\" href=https://colab.research.google.com/notebooks/data_table.ipynb>data table notebook</a>'\n",
              "          + ' to learn more about interactive tables.';\n",
              "        element.innerHTML = '';\n",
              "        dataTable['output_type'] = 'display_data';\n",
              "        await google.colab.output.renderOutput(dataTable, element);\n",
              "        const docLink = document.createElement('div');\n",
              "        docLink.innerHTML = docLinkHtml;\n",
              "        element.appendChild(docLink);\n",
              "      }\n",
              "    </script>\n",
              "  </div>\n",
              "\n",
              "\n",
              "<div id=\"df-eee2e8ae-297c-4a61-b57d-386e63fff791\">\n",
              "  <button class=\"colab-df-quickchart\" onclick=\"quickchart('df-eee2e8ae-297c-4a61-b57d-386e63fff791')\"\n",
              "            title=\"Suggest charts.\"\n",
              "            style=\"display:none;\">\n",
              "\n",
              "<svg xmlns=\"http://www.w3.org/2000/svg\" height=\"24px\"viewBox=\"0 0 24 24\"\n",
              "     width=\"24px\">\n",
              "    <g>\n",
              "        <path d=\"M19 3H5c-1.1 0-2 .9-2 2v14c0 1.1.9 2 2 2h14c1.1 0 2-.9 2-2V5c0-1.1-.9-2-2-2zM9 17H7v-7h2v7zm4 0h-2V7h2v10zm4 0h-2v-4h2v4z\"/>\n",
              "    </g>\n",
              "</svg>\n",
              "  </button>\n",
              "\n",
              "<style>\n",
              "  .colab-df-quickchart {\n",
              "      --bg-color: #E8F0FE;\n",
              "      --fill-color: #1967D2;\n",
              "      --hover-bg-color: #E2EBFA;\n",
              "      --hover-fill-color: #174EA6;\n",
              "      --disabled-fill-color: #AAA;\n",
              "      --disabled-bg-color: #DDD;\n",
              "  }\n",
              "\n",
              "  [theme=dark] .colab-df-quickchart {\n",
              "      --bg-color: #3B4455;\n",
              "      --fill-color: #D2E3FC;\n",
              "      --hover-bg-color: #434B5C;\n",
              "      --hover-fill-color: #FFFFFF;\n",
              "      --disabled-bg-color: #3B4455;\n",
              "      --disabled-fill-color: #666;\n",
              "  }\n",
              "\n",
              "  .colab-df-quickchart {\n",
              "    background-color: var(--bg-color);\n",
              "    border: none;\n",
              "    border-radius: 50%;\n",
              "    cursor: pointer;\n",
              "    display: none;\n",
              "    fill: var(--fill-color);\n",
              "    height: 32px;\n",
              "    padding: 0;\n",
              "    width: 32px;\n",
              "  }\n",
              "\n",
              "  .colab-df-quickchart:hover {\n",
              "    background-color: var(--hover-bg-color);\n",
              "    box-shadow: 0 1px 2px rgba(60, 64, 67, 0.3), 0 1px 3px 1px rgba(60, 64, 67, 0.15);\n",
              "    fill: var(--button-hover-fill-color);\n",
              "  }\n",
              "\n",
              "  .colab-df-quickchart-complete:disabled,\n",
              "  .colab-df-quickchart-complete:disabled:hover {\n",
              "    background-color: var(--disabled-bg-color);\n",
              "    fill: var(--disabled-fill-color);\n",
              "    box-shadow: none;\n",
              "  }\n",
              "\n",
              "  .colab-df-spinner {\n",
              "    border: 2px solid var(--fill-color);\n",
              "    border-color: transparent;\n",
              "    border-bottom-color: var(--fill-color);\n",
              "    animation:\n",
              "      spin 1s steps(1) infinite;\n",
              "  }\n",
              "\n",
              "  @keyframes spin {\n",
              "    0% {\n",
              "      border-color: transparent;\n",
              "      border-bottom-color: var(--fill-color);\n",
              "      border-left-color: var(--fill-color);\n",
              "    }\n",
              "    20% {\n",
              "      border-color: transparent;\n",
              "      border-left-color: var(--fill-color);\n",
              "      border-top-color: var(--fill-color);\n",
              "    }\n",
              "    30% {\n",
              "      border-color: transparent;\n",
              "      border-left-color: var(--fill-color);\n",
              "      border-top-color: var(--fill-color);\n",
              "      border-right-color: var(--fill-color);\n",
              "    }\n",
              "    40% {\n",
              "      border-color: transparent;\n",
              "      border-right-color: var(--fill-color);\n",
              "      border-top-color: var(--fill-color);\n",
              "    }\n",
              "    60% {\n",
              "      border-color: transparent;\n",
              "      border-right-color: var(--fill-color);\n",
              "    }\n",
              "    80% {\n",
              "      border-color: transparent;\n",
              "      border-right-color: var(--fill-color);\n",
              "      border-bottom-color: var(--fill-color);\n",
              "    }\n",
              "    90% {\n",
              "      border-color: transparent;\n",
              "      border-bottom-color: var(--fill-color);\n",
              "    }\n",
              "  }\n",
              "</style>\n",
              "\n",
              "  <script>\n",
              "    async function quickchart(key) {\n",
              "      const quickchartButtonEl =\n",
              "        document.querySelector('#' + key + ' button');\n",
              "      quickchartButtonEl.disabled = true;  // To prevent multiple clicks.\n",
              "      quickchartButtonEl.classList.add('colab-df-spinner');\n",
              "      try {\n",
              "        const charts = await google.colab.kernel.invokeFunction(\n",
              "            'suggestCharts', [key], {});\n",
              "      } catch (error) {\n",
              "        console.error('Error during call to suggestCharts:', error);\n",
              "      }\n",
              "      quickchartButtonEl.classList.remove('colab-df-spinner');\n",
              "      quickchartButtonEl.classList.add('colab-df-quickchart-complete');\n",
              "    }\n",
              "    (() => {\n",
              "      let quickchartButtonEl =\n",
              "        document.querySelector('#df-eee2e8ae-297c-4a61-b57d-386e63fff791 button');\n",
              "      quickchartButtonEl.style.display =\n",
              "        google.colab.kernel.accessAllowed ? 'block' : 'none';\n",
              "    })();\n",
              "  </script>\n",
              "</div>\n",
              "    </div>\n",
              "  </div>\n"
            ]
          },
          "metadata": {},
          "execution_count": 29
        }
      ],
      "source": [
        "mydata.head()"
      ]
    },
    {
      "cell_type": "code",
      "source": [
        "mydata.shape"
      ],
      "metadata": {
        "colab": {
          "base_uri": "https://localhost:8080/"
        },
        "id": "G9uFilQdvqTg",
        "outputId": "8b42a3c9-9b96-4315-cf0f-db7c530f02e6"
      },
      "id": "G9uFilQdvqTg",
      "execution_count": null,
      "outputs": [
        {
          "output_type": "execute_result",
          "data": {
            "text/plain": [
              "(303, 15)"
            ]
          },
          "metadata": {},
          "execution_count": 30
        }
      ]
    },
    {
      "cell_type": "code",
      "source": [
        "# mydata['AHD'] = mydata['AHD'].apply(lambda x: 1 if x == 'Yes' else 0)\n",
        "\n",
        "mydata['AHD']=1*(mydata['AHD']=='Yes')"
      ],
      "metadata": {
        "id": "Eqyi1rv6vqRg"
      },
      "id": "Eqyi1rv6vqRg",
      "execution_count": null,
      "outputs": []
    },
    {
      "cell_type": "code",
      "source": [
        "mydata.shape"
      ],
      "metadata": {
        "id": "-E5UzI-FvqPV",
        "colab": {
          "base_uri": "https://localhost:8080/"
        },
        "outputId": "02b7873c-7126-4e8e-f68e-c5995163a2f9"
      },
      "id": "-E5UzI-FvqPV",
      "execution_count": null,
      "outputs": [
        {
          "output_type": "execute_result",
          "data": {
            "text/plain": [
              "(303, 15)"
            ]
          },
          "metadata": {},
          "execution_count": 32
        }
      ]
    },
    {
      "cell_type": "code",
      "source": [
        "mydata.describe()"
      ],
      "metadata": {
        "id": "_OmFRKv3vqM_",
        "colab": {
          "base_uri": "https://localhost:8080/",
          "height": 338
        },
        "outputId": "3f4b1f8f-5c3f-4e08-b855-683e44267c29"
      },
      "id": "_OmFRKv3vqM_",
      "execution_count": null,
      "outputs": [
        {
          "output_type": "execute_result",
          "data": {
            "text/plain": [
              "       Unnamed: 0         Age         Sex      RestBP        Chol         Fbs  \\\n",
              "count  303.000000  303.000000  303.000000  303.000000  303.000000  303.000000   \n",
              "mean   152.000000   54.438944    0.679868  131.689769  246.693069    0.148515   \n",
              "std     87.612784    9.038662    0.467299   17.599748   51.776918    0.356198   \n",
              "min      1.000000   29.000000    0.000000   94.000000  126.000000    0.000000   \n",
              "25%     76.500000   48.000000    0.000000  120.000000  211.000000    0.000000   \n",
              "50%    152.000000   56.000000    1.000000  130.000000  241.000000    0.000000   \n",
              "75%    227.500000   61.000000    1.000000  140.000000  275.000000    0.000000   \n",
              "max    303.000000   77.000000    1.000000  200.000000  564.000000    1.000000   \n",
              "\n",
              "          RestECG       MaxHR       ExAng     Oldpeak       Slope          Ca  \\\n",
              "count  303.000000  303.000000  303.000000  303.000000  303.000000  299.000000   \n",
              "mean     0.990099  149.607261    0.326733    1.039604    1.600660    0.672241   \n",
              "std      0.994971   22.875003    0.469794    1.161075    0.616226    0.937438   \n",
              "min      0.000000   71.000000    0.000000    0.000000    1.000000    0.000000   \n",
              "25%      0.000000  133.500000    0.000000    0.000000    1.000000    0.000000   \n",
              "50%      1.000000  153.000000    0.000000    0.800000    2.000000    0.000000   \n",
              "75%      2.000000  166.000000    1.000000    1.600000    2.000000    1.000000   \n",
              "max      2.000000  202.000000    1.000000    6.200000    3.000000    3.000000   \n",
              "\n",
              "              AHD  \n",
              "count  303.000000  \n",
              "mean     0.458746  \n",
              "std      0.499120  \n",
              "min      0.000000  \n",
              "25%      0.000000  \n",
              "50%      0.000000  \n",
              "75%      1.000000  \n",
              "max      1.000000  "
            ],
            "text/html": [
              "\n",
              "  <div id=\"df-530dbac9-7691-4446-8935-cc1b075a8909\" class=\"colab-df-container\">\n",
              "    <div>\n",
              "<style scoped>\n",
              "    .dataframe tbody tr th:only-of-type {\n",
              "        vertical-align: middle;\n",
              "    }\n",
              "\n",
              "    .dataframe tbody tr th {\n",
              "        vertical-align: top;\n",
              "    }\n",
              "\n",
              "    .dataframe thead th {\n",
              "        text-align: right;\n",
              "    }\n",
              "</style>\n",
              "<table border=\"1\" class=\"dataframe\">\n",
              "  <thead>\n",
              "    <tr style=\"text-align: right;\">\n",
              "      <th></th>\n",
              "      <th>Unnamed: 0</th>\n",
              "      <th>Age</th>\n",
              "      <th>Sex</th>\n",
              "      <th>RestBP</th>\n",
              "      <th>Chol</th>\n",
              "      <th>Fbs</th>\n",
              "      <th>RestECG</th>\n",
              "      <th>MaxHR</th>\n",
              "      <th>ExAng</th>\n",
              "      <th>Oldpeak</th>\n",
              "      <th>Slope</th>\n",
              "      <th>Ca</th>\n",
              "      <th>AHD</th>\n",
              "    </tr>\n",
              "  </thead>\n",
              "  <tbody>\n",
              "    <tr>\n",
              "      <th>count</th>\n",
              "      <td>303.000000</td>\n",
              "      <td>303.000000</td>\n",
              "      <td>303.000000</td>\n",
              "      <td>303.000000</td>\n",
              "      <td>303.000000</td>\n",
              "      <td>303.000000</td>\n",
              "      <td>303.000000</td>\n",
              "      <td>303.000000</td>\n",
              "      <td>303.000000</td>\n",
              "      <td>303.000000</td>\n",
              "      <td>303.000000</td>\n",
              "      <td>299.000000</td>\n",
              "      <td>303.000000</td>\n",
              "    </tr>\n",
              "    <tr>\n",
              "      <th>mean</th>\n",
              "      <td>152.000000</td>\n",
              "      <td>54.438944</td>\n",
              "      <td>0.679868</td>\n",
              "      <td>131.689769</td>\n",
              "      <td>246.693069</td>\n",
              "      <td>0.148515</td>\n",
              "      <td>0.990099</td>\n",
              "      <td>149.607261</td>\n",
              "      <td>0.326733</td>\n",
              "      <td>1.039604</td>\n",
              "      <td>1.600660</td>\n",
              "      <td>0.672241</td>\n",
              "      <td>0.458746</td>\n",
              "    </tr>\n",
              "    <tr>\n",
              "      <th>std</th>\n",
              "      <td>87.612784</td>\n",
              "      <td>9.038662</td>\n",
              "      <td>0.467299</td>\n",
              "      <td>17.599748</td>\n",
              "      <td>51.776918</td>\n",
              "      <td>0.356198</td>\n",
              "      <td>0.994971</td>\n",
              "      <td>22.875003</td>\n",
              "      <td>0.469794</td>\n",
              "      <td>1.161075</td>\n",
              "      <td>0.616226</td>\n",
              "      <td>0.937438</td>\n",
              "      <td>0.499120</td>\n",
              "    </tr>\n",
              "    <tr>\n",
              "      <th>min</th>\n",
              "      <td>1.000000</td>\n",
              "      <td>29.000000</td>\n",
              "      <td>0.000000</td>\n",
              "      <td>94.000000</td>\n",
              "      <td>126.000000</td>\n",
              "      <td>0.000000</td>\n",
              "      <td>0.000000</td>\n",
              "      <td>71.000000</td>\n",
              "      <td>0.000000</td>\n",
              "      <td>0.000000</td>\n",
              "      <td>1.000000</td>\n",
              "      <td>0.000000</td>\n",
              "      <td>0.000000</td>\n",
              "    </tr>\n",
              "    <tr>\n",
              "      <th>25%</th>\n",
              "      <td>76.500000</td>\n",
              "      <td>48.000000</td>\n",
              "      <td>0.000000</td>\n",
              "      <td>120.000000</td>\n",
              "      <td>211.000000</td>\n",
              "      <td>0.000000</td>\n",
              "      <td>0.000000</td>\n",
              "      <td>133.500000</td>\n",
              "      <td>0.000000</td>\n",
              "      <td>0.000000</td>\n",
              "      <td>1.000000</td>\n",
              "      <td>0.000000</td>\n",
              "      <td>0.000000</td>\n",
              "    </tr>\n",
              "    <tr>\n",
              "      <th>50%</th>\n",
              "      <td>152.000000</td>\n",
              "      <td>56.000000</td>\n",
              "      <td>1.000000</td>\n",
              "      <td>130.000000</td>\n",
              "      <td>241.000000</td>\n",
              "      <td>0.000000</td>\n",
              "      <td>1.000000</td>\n",
              "      <td>153.000000</td>\n",
              "      <td>0.000000</td>\n",
              "      <td>0.800000</td>\n",
              "      <td>2.000000</td>\n",
              "      <td>0.000000</td>\n",
              "      <td>0.000000</td>\n",
              "    </tr>\n",
              "    <tr>\n",
              "      <th>75%</th>\n",
              "      <td>227.500000</td>\n",
              "      <td>61.000000</td>\n",
              "      <td>1.000000</td>\n",
              "      <td>140.000000</td>\n",
              "      <td>275.000000</td>\n",
              "      <td>0.000000</td>\n",
              "      <td>2.000000</td>\n",
              "      <td>166.000000</td>\n",
              "      <td>1.000000</td>\n",
              "      <td>1.600000</td>\n",
              "      <td>2.000000</td>\n",
              "      <td>1.000000</td>\n",
              "      <td>1.000000</td>\n",
              "    </tr>\n",
              "    <tr>\n",
              "      <th>max</th>\n",
              "      <td>303.000000</td>\n",
              "      <td>77.000000</td>\n",
              "      <td>1.000000</td>\n",
              "      <td>200.000000</td>\n",
              "      <td>564.000000</td>\n",
              "      <td>1.000000</td>\n",
              "      <td>2.000000</td>\n",
              "      <td>202.000000</td>\n",
              "      <td>1.000000</td>\n",
              "      <td>6.200000</td>\n",
              "      <td>3.000000</td>\n",
              "      <td>3.000000</td>\n",
              "      <td>1.000000</td>\n",
              "    </tr>\n",
              "  </tbody>\n",
              "</table>\n",
              "</div>\n",
              "    <div class=\"colab-df-buttons\">\n",
              "\n",
              "  <div class=\"colab-df-container\">\n",
              "    <button class=\"colab-df-convert\" onclick=\"convertToInteractive('df-530dbac9-7691-4446-8935-cc1b075a8909')\"\n",
              "            title=\"Convert this dataframe to an interactive table.\"\n",
              "            style=\"display:none;\">\n",
              "\n",
              "  <svg xmlns=\"http://www.w3.org/2000/svg\" height=\"24px\" viewBox=\"0 -960 960 960\">\n",
              "    <path d=\"M120-120v-720h720v720H120Zm60-500h600v-160H180v160Zm220 220h160v-160H400v160Zm0 220h160v-160H400v160ZM180-400h160v-160H180v160Zm440 0h160v-160H620v160ZM180-180h160v-160H180v160Zm440 0h160v-160H620v160Z\"/>\n",
              "  </svg>\n",
              "    </button>\n",
              "\n",
              "  <style>\n",
              "    .colab-df-container {\n",
              "      display:flex;\n",
              "      gap: 12px;\n",
              "    }\n",
              "\n",
              "    .colab-df-convert {\n",
              "      background-color: #E8F0FE;\n",
              "      border: none;\n",
              "      border-radius: 50%;\n",
              "      cursor: pointer;\n",
              "      display: none;\n",
              "      fill: #1967D2;\n",
              "      height: 32px;\n",
              "      padding: 0 0 0 0;\n",
              "      width: 32px;\n",
              "    }\n",
              "\n",
              "    .colab-df-convert:hover {\n",
              "      background-color: #E2EBFA;\n",
              "      box-shadow: 0px 1px 2px rgba(60, 64, 67, 0.3), 0px 1px 3px 1px rgba(60, 64, 67, 0.15);\n",
              "      fill: #174EA6;\n",
              "    }\n",
              "\n",
              "    .colab-df-buttons div {\n",
              "      margin-bottom: 4px;\n",
              "    }\n",
              "\n",
              "    [theme=dark] .colab-df-convert {\n",
              "      background-color: #3B4455;\n",
              "      fill: #D2E3FC;\n",
              "    }\n",
              "\n",
              "    [theme=dark] .colab-df-convert:hover {\n",
              "      background-color: #434B5C;\n",
              "      box-shadow: 0px 1px 3px 1px rgba(0, 0, 0, 0.15);\n",
              "      filter: drop-shadow(0px 1px 2px rgba(0, 0, 0, 0.3));\n",
              "      fill: #FFFFFF;\n",
              "    }\n",
              "  </style>\n",
              "\n",
              "    <script>\n",
              "      const buttonEl =\n",
              "        document.querySelector('#df-530dbac9-7691-4446-8935-cc1b075a8909 button.colab-df-convert');\n",
              "      buttonEl.style.display =\n",
              "        google.colab.kernel.accessAllowed ? 'block' : 'none';\n",
              "\n",
              "      async function convertToInteractive(key) {\n",
              "        const element = document.querySelector('#df-530dbac9-7691-4446-8935-cc1b075a8909');\n",
              "        const dataTable =\n",
              "          await google.colab.kernel.invokeFunction('convertToInteractive',\n",
              "                                                    [key], {});\n",
              "        if (!dataTable) return;\n",
              "\n",
              "        const docLinkHtml = 'Like what you see? Visit the ' +\n",
              "          '<a target=\"_blank\" href=https://colab.research.google.com/notebooks/data_table.ipynb>data table notebook</a>'\n",
              "          + ' to learn more about interactive tables.';\n",
              "        element.innerHTML = '';\n",
              "        dataTable['output_type'] = 'display_data';\n",
              "        await google.colab.output.renderOutput(dataTable, element);\n",
              "        const docLink = document.createElement('div');\n",
              "        docLink.innerHTML = docLinkHtml;\n",
              "        element.appendChild(docLink);\n",
              "      }\n",
              "    </script>\n",
              "  </div>\n",
              "\n",
              "\n",
              "<div id=\"df-99bd3710-dfdd-4a2d-92da-e6787070e20d\">\n",
              "  <button class=\"colab-df-quickchart\" onclick=\"quickchart('df-99bd3710-dfdd-4a2d-92da-e6787070e20d')\"\n",
              "            title=\"Suggest charts.\"\n",
              "            style=\"display:none;\">\n",
              "\n",
              "<svg xmlns=\"http://www.w3.org/2000/svg\" height=\"24px\"viewBox=\"0 0 24 24\"\n",
              "     width=\"24px\">\n",
              "    <g>\n",
              "        <path d=\"M19 3H5c-1.1 0-2 .9-2 2v14c0 1.1.9 2 2 2h14c1.1 0 2-.9 2-2V5c0-1.1-.9-2-2-2zM9 17H7v-7h2v7zm4 0h-2V7h2v10zm4 0h-2v-4h2v4z\"/>\n",
              "    </g>\n",
              "</svg>\n",
              "  </button>\n",
              "\n",
              "<style>\n",
              "  .colab-df-quickchart {\n",
              "      --bg-color: #E8F0FE;\n",
              "      --fill-color: #1967D2;\n",
              "      --hover-bg-color: #E2EBFA;\n",
              "      --hover-fill-color: #174EA6;\n",
              "      --disabled-fill-color: #AAA;\n",
              "      --disabled-bg-color: #DDD;\n",
              "  }\n",
              "\n",
              "  [theme=dark] .colab-df-quickchart {\n",
              "      --bg-color: #3B4455;\n",
              "      --fill-color: #D2E3FC;\n",
              "      --hover-bg-color: #434B5C;\n",
              "      --hover-fill-color: #FFFFFF;\n",
              "      --disabled-bg-color: #3B4455;\n",
              "      --disabled-fill-color: #666;\n",
              "  }\n",
              "\n",
              "  .colab-df-quickchart {\n",
              "    background-color: var(--bg-color);\n",
              "    border: none;\n",
              "    border-radius: 50%;\n",
              "    cursor: pointer;\n",
              "    display: none;\n",
              "    fill: var(--fill-color);\n",
              "    height: 32px;\n",
              "    padding: 0;\n",
              "    width: 32px;\n",
              "  }\n",
              "\n",
              "  .colab-df-quickchart:hover {\n",
              "    background-color: var(--hover-bg-color);\n",
              "    box-shadow: 0 1px 2px rgba(60, 64, 67, 0.3), 0 1px 3px 1px rgba(60, 64, 67, 0.15);\n",
              "    fill: var(--button-hover-fill-color);\n",
              "  }\n",
              "\n",
              "  .colab-df-quickchart-complete:disabled,\n",
              "  .colab-df-quickchart-complete:disabled:hover {\n",
              "    background-color: var(--disabled-bg-color);\n",
              "    fill: var(--disabled-fill-color);\n",
              "    box-shadow: none;\n",
              "  }\n",
              "\n",
              "  .colab-df-spinner {\n",
              "    border: 2px solid var(--fill-color);\n",
              "    border-color: transparent;\n",
              "    border-bottom-color: var(--fill-color);\n",
              "    animation:\n",
              "      spin 1s steps(1) infinite;\n",
              "  }\n",
              "\n",
              "  @keyframes spin {\n",
              "    0% {\n",
              "      border-color: transparent;\n",
              "      border-bottom-color: var(--fill-color);\n",
              "      border-left-color: var(--fill-color);\n",
              "    }\n",
              "    20% {\n",
              "      border-color: transparent;\n",
              "      border-left-color: var(--fill-color);\n",
              "      border-top-color: var(--fill-color);\n",
              "    }\n",
              "    30% {\n",
              "      border-color: transparent;\n",
              "      border-left-color: var(--fill-color);\n",
              "      border-top-color: var(--fill-color);\n",
              "      border-right-color: var(--fill-color);\n",
              "    }\n",
              "    40% {\n",
              "      border-color: transparent;\n",
              "      border-right-color: var(--fill-color);\n",
              "      border-top-color: var(--fill-color);\n",
              "    }\n",
              "    60% {\n",
              "      border-color: transparent;\n",
              "      border-right-color: var(--fill-color);\n",
              "    }\n",
              "    80% {\n",
              "      border-color: transparent;\n",
              "      border-right-color: var(--fill-color);\n",
              "      border-bottom-color: var(--fill-color);\n",
              "    }\n",
              "    90% {\n",
              "      border-color: transparent;\n",
              "      border-bottom-color: var(--fill-color);\n",
              "    }\n",
              "  }\n",
              "</style>\n",
              "\n",
              "  <script>\n",
              "    async function quickchart(key) {\n",
              "      const quickchartButtonEl =\n",
              "        document.querySelector('#' + key + ' button');\n",
              "      quickchartButtonEl.disabled = true;  // To prevent multiple clicks.\n",
              "      quickchartButtonEl.classList.add('colab-df-spinner');\n",
              "      try {\n",
              "        const charts = await google.colab.kernel.invokeFunction(\n",
              "            'suggestCharts', [key], {});\n",
              "      } catch (error) {\n",
              "        console.error('Error during call to suggestCharts:', error);\n",
              "      }\n",
              "      quickchartButtonEl.classList.remove('colab-df-spinner');\n",
              "      quickchartButtonEl.classList.add('colab-df-quickchart-complete');\n",
              "    }\n",
              "    (() => {\n",
              "      let quickchartButtonEl =\n",
              "        document.querySelector('#df-99bd3710-dfdd-4a2d-92da-e6787070e20d button');\n",
              "      quickchartButtonEl.style.display =\n",
              "        google.colab.kernel.accessAllowed ? 'block' : 'none';\n",
              "    })();\n",
              "  </script>\n",
              "</div>\n",
              "    </div>\n",
              "  </div>\n"
            ]
          },
          "metadata": {},
          "execution_count": 33
        }
      ]
    },
    {
      "cell_type": "code",
      "source": [
        "X = mydata[['Age', 'MaxHR']]\n",
        "y = mydata.AHD"
      ],
      "metadata": {
        "id": "9Y4MUp6PxW2b"
      },
      "id": "9Y4MUp6PxW2b",
      "execution_count": null,
      "outputs": []
    },
    {
      "cell_type": "code",
      "source": [
        "X_train, X_test, y_train, y_test = train_test_split(X, y, stratify=y, random_state=109, test_size=0.3 )"
      ],
      "metadata": {
        "id": "MfW4DYNsxi5r"
      },
      "id": "MfW4DYNsxi5r",
      "execution_count": null,
      "outputs": []
    },
    {
      "cell_type": "code",
      "source": [],
      "metadata": {
        "id": "ALNsvm0Wxi2D"
      },
      "id": "ALNsvm0Wxi2D",
      "execution_count": null,
      "outputs": []
    },
    {
      "cell_type": "markdown",
      "id": "d88c2b0d-fde0-4bfe-b506-7096a063536a",
      "metadata": {
        "id": "d88c2b0d-fde0-4bfe-b506-7096a063536a"
      },
      "source": [
        "**Q1.1** Below we fit an unregularized logistic regression model (`logit1`) to predict `AHD` from `Age` and `MaxHR` in the training set.  Print out the coefficient estimates, and interpret general trends."
      ]
    },
    {
      "cell_type": "markdown",
      "id": "6a52773e-b8db-4d46-aacb-3bf0d965993d",
      "metadata": {
        "id": "6a52773e-b8db-4d46-aacb-3bf0d965993d"
      },
      "source": [
        "- Fit a logistic regression model using Age and MaxHR columns. Use a first degree polynomial transformation.\n",
        "- Print the model coefficients for both variables."
      ]
    },
    {
      "cell_type": "code",
      "source": [
        "poly1 = PolynomialFeatures(degree=1, include_bias=False)"
      ],
      "metadata": {
        "id": "XfsztsU-xiij"
      },
      "id": "XfsztsU-xiij",
      "execution_count": null,
      "outputs": []
    },
    {
      "cell_type": "code",
      "execution_count": null,
      "id": "dca1d166-63c1-40cd-8ab5-4d9c80b1e51b",
      "metadata": {
        "id": "dca1d166-63c1-40cd-8ab5-4d9c80b1e51b"
      },
      "outputs": [],
      "source": [
        "X_train_p = poly1.fit_transform(X_train)"
      ]
    },
    {
      "cell_type": "code",
      "source": [
        "logit1 = LogisticRegression(max_iter=5000)\n",
        "logit1.fit(X_train_p, y_train)"
      ],
      "metadata": {
        "colab": {
          "base_uri": "https://localhost:8080/",
          "height": 75
        },
        "id": "-g5kB3gbyOfz",
        "outputId": "ba53721d-970d-4759-fb2e-4a0306e15ea8"
      },
      "id": "-g5kB3gbyOfz",
      "execution_count": null,
      "outputs": [
        {
          "output_type": "execute_result",
          "data": {
            "text/plain": [
              "LogisticRegression(max_iter=5000)"
            ],
            "text/html": [
              "<style>#sk-container-id-1 {color: black;background-color: white;}#sk-container-id-1 pre{padding: 0;}#sk-container-id-1 div.sk-toggleable {background-color: white;}#sk-container-id-1 label.sk-toggleable__label {cursor: pointer;display: block;width: 100%;margin-bottom: 0;padding: 0.3em;box-sizing: border-box;text-align: center;}#sk-container-id-1 label.sk-toggleable__label-arrow:before {content: \"▸\";float: left;margin-right: 0.25em;color: #696969;}#sk-container-id-1 label.sk-toggleable__label-arrow:hover:before {color: black;}#sk-container-id-1 div.sk-estimator:hover label.sk-toggleable__label-arrow:before {color: black;}#sk-container-id-1 div.sk-toggleable__content {max-height: 0;max-width: 0;overflow: hidden;text-align: left;background-color: #f0f8ff;}#sk-container-id-1 div.sk-toggleable__content pre {margin: 0.2em;color: black;border-radius: 0.25em;background-color: #f0f8ff;}#sk-container-id-1 input.sk-toggleable__control:checked~div.sk-toggleable__content {max-height: 200px;max-width: 100%;overflow: auto;}#sk-container-id-1 input.sk-toggleable__control:checked~label.sk-toggleable__label-arrow:before {content: \"▾\";}#sk-container-id-1 div.sk-estimator input.sk-toggleable__control:checked~label.sk-toggleable__label {background-color: #d4ebff;}#sk-container-id-1 div.sk-label input.sk-toggleable__control:checked~label.sk-toggleable__label {background-color: #d4ebff;}#sk-container-id-1 input.sk-hidden--visually {border: 0;clip: rect(1px 1px 1px 1px);clip: rect(1px, 1px, 1px, 1px);height: 1px;margin: -1px;overflow: hidden;padding: 0;position: absolute;width: 1px;}#sk-container-id-1 div.sk-estimator {font-family: monospace;background-color: #f0f8ff;border: 1px dotted black;border-radius: 0.25em;box-sizing: border-box;margin-bottom: 0.5em;}#sk-container-id-1 div.sk-estimator:hover {background-color: #d4ebff;}#sk-container-id-1 div.sk-parallel-item::after {content: \"\";width: 100%;border-bottom: 1px solid gray;flex-grow: 1;}#sk-container-id-1 div.sk-label:hover label.sk-toggleable__label {background-color: #d4ebff;}#sk-container-id-1 div.sk-serial::before {content: \"\";position: absolute;border-left: 1px solid gray;box-sizing: border-box;top: 0;bottom: 0;left: 50%;z-index: 0;}#sk-container-id-1 div.sk-serial {display: flex;flex-direction: column;align-items: center;background-color: white;padding-right: 0.2em;padding-left: 0.2em;position: relative;}#sk-container-id-1 div.sk-item {position: relative;z-index: 1;}#sk-container-id-1 div.sk-parallel {display: flex;align-items: stretch;justify-content: center;background-color: white;position: relative;}#sk-container-id-1 div.sk-item::before, #sk-container-id-1 div.sk-parallel-item::before {content: \"\";position: absolute;border-left: 1px solid gray;box-sizing: border-box;top: 0;bottom: 0;left: 50%;z-index: -1;}#sk-container-id-1 div.sk-parallel-item {display: flex;flex-direction: column;z-index: 1;position: relative;background-color: white;}#sk-container-id-1 div.sk-parallel-item:first-child::after {align-self: flex-end;width: 50%;}#sk-container-id-1 div.sk-parallel-item:last-child::after {align-self: flex-start;width: 50%;}#sk-container-id-1 div.sk-parallel-item:only-child::after {width: 0;}#sk-container-id-1 div.sk-dashed-wrapped {border: 1px dashed gray;margin: 0 0.4em 0.5em 0.4em;box-sizing: border-box;padding-bottom: 0.4em;background-color: white;}#sk-container-id-1 div.sk-label label {font-family: monospace;font-weight: bold;display: inline-block;line-height: 1.2em;}#sk-container-id-1 div.sk-label-container {text-align: center;}#sk-container-id-1 div.sk-container {/* jupyter's `normalize.less` sets `[hidden] { display: none; }` but bootstrap.min.css set `[hidden] { display: none !important; }` so we also need the `!important` here to be able to override the default hidden behavior on the sphinx rendered scikit-learn.org. See: https://github.com/scikit-learn/scikit-learn/issues/21755 */display: inline-block !important;position: relative;}#sk-container-id-1 div.sk-text-repr-fallback {display: none;}</style><div id=\"sk-container-id-1\" class=\"sk-top-container\"><div class=\"sk-text-repr-fallback\"><pre>LogisticRegression(max_iter=5000)</pre><b>In a Jupyter environment, please rerun this cell to show the HTML representation or trust the notebook. <br />On GitHub, the HTML representation is unable to render, please try loading this page with nbviewer.org.</b></div><div class=\"sk-container\" hidden><div class=\"sk-item\"><div class=\"sk-estimator sk-toggleable\"><input class=\"sk-toggleable__control sk-hidden--visually\" id=\"sk-estimator-id-1\" type=\"checkbox\" checked><label for=\"sk-estimator-id-1\" class=\"sk-toggleable__label sk-toggleable__label-arrow\">LogisticRegression</label><div class=\"sk-toggleable__content\"><pre>LogisticRegression(max_iter=5000)</pre></div></div></div></div></div>"
            ]
          },
          "metadata": {},
          "execution_count": 38
        }
      ]
    },
    {
      "cell_type": "code",
      "source": [
        "logit1.coef_, logit1.intercept_"
      ],
      "metadata": {
        "colab": {
          "base_uri": "https://localhost:8080/"
        },
        "id": "8ji9f-rYygl6",
        "outputId": "737c247b-8342-439d-bc43-e5b208b9667d"
      },
      "id": "8ji9f-rYygl6",
      "execution_count": null,
      "outputs": [
        {
          "output_type": "execute_result",
          "data": {
            "text/plain": [
              "(array([[ 0.00225983, -0.04494668]]), array([6.3609723]))"
            ]
          },
          "metadata": {},
          "execution_count": 39
        }
      ]
    },
    {
      "cell_type": "code",
      "source": [],
      "metadata": {
        "id": "RfewC0ghyjgW"
      },
      "id": "RfewC0ghyjgW",
      "execution_count": null,
      "outputs": []
    },
    {
      "cell_type": "markdown",
      "id": "869b7a61-f81e-4cd9-be34-4a914b7d48c8",
      "metadata": {
        "id": "869b7a61-f81e-4cd9-be34-4a914b7d48c8"
      },
      "source": [
        "*your interpretation here*"
      ]
    },
    {
      "cell_type": "markdown",
      "id": "79505a94-4a60-404a-a96b-b8e446909243",
      "metadata": {
        "id": "79505a94-4a60-404a-a96b-b8e446909243"
      },
      "source": [
        "**Q1.1** Fit an unregularized 4th order polynomial (with interactions) logistic regression model (`logit4`) to predict `AHD` from `Age` and `MaxHR` in the training set.  Print out the coefficient estimates."
      ]
    },
    {
      "cell_type": "code",
      "execution_count": null,
      "id": "c25c6c24-33f9-4ec1-9fd0-de523fb4b24c",
      "metadata": {
        "id": "c25c6c24-33f9-4ec1-9fd0-de523fb4b24c"
      },
      "outputs": [],
      "source": [
        "poly4 = PolynomialFeatures(degree=4, include_bias=False)"
      ]
    },
    {
      "cell_type": "code",
      "source": [
        "X_train_p4 = poly4.fit_transform(X_train)"
      ],
      "metadata": {
        "id": "j9bUfqJmysGl"
      },
      "id": "j9bUfqJmysGl",
      "execution_count": null,
      "outputs": []
    },
    {
      "cell_type": "code",
      "source": [
        "logit4 = LogisticRegression(max_iter=5000)\n",
        "logit4.fit(X_train_p4, y_train)"
      ],
      "metadata": {
        "colab": {
          "base_uri": "https://localhost:8080/",
          "height": 75
        },
        "id": "PGVCp-W0ysBY",
        "outputId": "5fb5b5f7-79e8-466a-ab9c-0e60f216da4d"
      },
      "id": "PGVCp-W0ysBY",
      "execution_count": null,
      "outputs": [
        {
          "output_type": "execute_result",
          "data": {
            "text/plain": [
              "LogisticRegression(max_iter=5000)"
            ],
            "text/html": [
              "<style>#sk-container-id-2 {color: black;background-color: white;}#sk-container-id-2 pre{padding: 0;}#sk-container-id-2 div.sk-toggleable {background-color: white;}#sk-container-id-2 label.sk-toggleable__label {cursor: pointer;display: block;width: 100%;margin-bottom: 0;padding: 0.3em;box-sizing: border-box;text-align: center;}#sk-container-id-2 label.sk-toggleable__label-arrow:before {content: \"▸\";float: left;margin-right: 0.25em;color: #696969;}#sk-container-id-2 label.sk-toggleable__label-arrow:hover:before {color: black;}#sk-container-id-2 div.sk-estimator:hover label.sk-toggleable__label-arrow:before {color: black;}#sk-container-id-2 div.sk-toggleable__content {max-height: 0;max-width: 0;overflow: hidden;text-align: left;background-color: #f0f8ff;}#sk-container-id-2 div.sk-toggleable__content pre {margin: 0.2em;color: black;border-radius: 0.25em;background-color: #f0f8ff;}#sk-container-id-2 input.sk-toggleable__control:checked~div.sk-toggleable__content {max-height: 200px;max-width: 100%;overflow: auto;}#sk-container-id-2 input.sk-toggleable__control:checked~label.sk-toggleable__label-arrow:before {content: \"▾\";}#sk-container-id-2 div.sk-estimator input.sk-toggleable__control:checked~label.sk-toggleable__label {background-color: #d4ebff;}#sk-container-id-2 div.sk-label input.sk-toggleable__control:checked~label.sk-toggleable__label {background-color: #d4ebff;}#sk-container-id-2 input.sk-hidden--visually {border: 0;clip: rect(1px 1px 1px 1px);clip: rect(1px, 1px, 1px, 1px);height: 1px;margin: -1px;overflow: hidden;padding: 0;position: absolute;width: 1px;}#sk-container-id-2 div.sk-estimator {font-family: monospace;background-color: #f0f8ff;border: 1px dotted black;border-radius: 0.25em;box-sizing: border-box;margin-bottom: 0.5em;}#sk-container-id-2 div.sk-estimator:hover {background-color: #d4ebff;}#sk-container-id-2 div.sk-parallel-item::after {content: \"\";width: 100%;border-bottom: 1px solid gray;flex-grow: 1;}#sk-container-id-2 div.sk-label:hover label.sk-toggleable__label {background-color: #d4ebff;}#sk-container-id-2 div.sk-serial::before {content: \"\";position: absolute;border-left: 1px solid gray;box-sizing: border-box;top: 0;bottom: 0;left: 50%;z-index: 0;}#sk-container-id-2 div.sk-serial {display: flex;flex-direction: column;align-items: center;background-color: white;padding-right: 0.2em;padding-left: 0.2em;position: relative;}#sk-container-id-2 div.sk-item {position: relative;z-index: 1;}#sk-container-id-2 div.sk-parallel {display: flex;align-items: stretch;justify-content: center;background-color: white;position: relative;}#sk-container-id-2 div.sk-item::before, #sk-container-id-2 div.sk-parallel-item::before {content: \"\";position: absolute;border-left: 1px solid gray;box-sizing: border-box;top: 0;bottom: 0;left: 50%;z-index: -1;}#sk-container-id-2 div.sk-parallel-item {display: flex;flex-direction: column;z-index: 1;position: relative;background-color: white;}#sk-container-id-2 div.sk-parallel-item:first-child::after {align-self: flex-end;width: 50%;}#sk-container-id-2 div.sk-parallel-item:last-child::after {align-self: flex-start;width: 50%;}#sk-container-id-2 div.sk-parallel-item:only-child::after {width: 0;}#sk-container-id-2 div.sk-dashed-wrapped {border: 1px dashed gray;margin: 0 0.4em 0.5em 0.4em;box-sizing: border-box;padding-bottom: 0.4em;background-color: white;}#sk-container-id-2 div.sk-label label {font-family: monospace;font-weight: bold;display: inline-block;line-height: 1.2em;}#sk-container-id-2 div.sk-label-container {text-align: center;}#sk-container-id-2 div.sk-container {/* jupyter's `normalize.less` sets `[hidden] { display: none; }` but bootstrap.min.css set `[hidden] { display: none !important; }` so we also need the `!important` here to be able to override the default hidden behavior on the sphinx rendered scikit-learn.org. See: https://github.com/scikit-learn/scikit-learn/issues/21755 */display: inline-block !important;position: relative;}#sk-container-id-2 div.sk-text-repr-fallback {display: none;}</style><div id=\"sk-container-id-2\" class=\"sk-top-container\"><div class=\"sk-text-repr-fallback\"><pre>LogisticRegression(max_iter=5000)</pre><b>In a Jupyter environment, please rerun this cell to show the HTML representation or trust the notebook. <br />On GitHub, the HTML representation is unable to render, please try loading this page with nbviewer.org.</b></div><div class=\"sk-container\" hidden><div class=\"sk-item\"><div class=\"sk-estimator sk-toggleable\"><input class=\"sk-toggleable__control sk-hidden--visually\" id=\"sk-estimator-id-2\" type=\"checkbox\" checked><label for=\"sk-estimator-id-2\" class=\"sk-toggleable__label sk-toggleable__label-arrow\">LogisticRegression</label><div class=\"sk-toggleable__content\"><pre>LogisticRegression(max_iter=5000)</pre></div></div></div></div></div>"
            ]
          },
          "metadata": {},
          "execution_count": 42
        }
      ]
    },
    {
      "cell_type": "code",
      "source": [
        "logit4.coef_, logit4.intercept_"
      ],
      "metadata": {
        "colab": {
          "base_uri": "https://localhost:8080/"
        },
        "id": "QTtmrceVyuvV",
        "outputId": "c07a698c-c533-4a2a-905b-dc943b23e71d"
      },
      "id": "QTtmrceVyuvV",
      "execution_count": null,
      "outputs": [
        {
          "output_type": "execute_result",
          "data": {
            "text/plain": [
              "(array([[ 3.75648705e-10,  6.40211355e-10,  1.54758501e-08,\n",
              "          2.41864332e-08,  4.05332304e-08,  4.97597102e-07,\n",
              "          7.21008192e-07,  1.08474580e-06,  1.65098526e-06,\n",
              "          1.16778502e-06, -1.96981495e-06,  1.16769221e-06,\n",
              "         -2.99028504e-07,  1.44167777e-08]]),\n",
              " array([8.49028825e-12]))"
            ]
          },
          "metadata": {},
          "execution_count": 43
        }
      ]
    },
    {
      "cell_type": "code",
      "source": [
        "poly4.get_feature_names_out()"
      ],
      "metadata": {
        "colab": {
          "base_uri": "https://localhost:8080/"
        },
        "id": "py_LfbrYyr-z",
        "outputId": "1a28ab7b-52ef-4e4a-b7b7-7a7fcb644bc2"
      },
      "id": "py_LfbrYyr-z",
      "execution_count": null,
      "outputs": [
        {
          "output_type": "execute_result",
          "data": {
            "text/plain": [
              "array(['Age', 'MaxHR', 'Age^2', 'Age MaxHR', 'MaxHR^2', 'Age^3',\n",
              "       'Age^2 MaxHR', 'Age MaxHR^2', 'MaxHR^3', 'Age^4', 'Age^3 MaxHR',\n",
              "       'Age^2 MaxHR^2', 'Age MaxHR^3', 'MaxHR^4'], dtype=object)"
            ]
          },
          "metadata": {},
          "execution_count": 45
        }
      ]
    },
    {
      "cell_type": "markdown",
      "id": "1866966e-f945-43a1-bf8b-8188cab5c66f",
      "metadata": {
        "id": "1866966e-f945-43a1-bf8b-8188cab5c66f"
      },
      "source": [
        "**Q1.2** Evaluate the models based on misclassification rate in both the test set."
      ]
    },
    {
      "cell_type": "markdown",
      "id": "952dcfd6-41f3-4b07-b77b-bf75f60f79ce",
      "metadata": {
        "id": "952dcfd6-41f3-4b07-b77b-bf75f60f79ce"
      },
      "source": [
        "Perform the classification predictions for the model at all values in the range of the two predictors for both `logit1` and `logit4` models."
      ]
    },
    {
      "cell_type": "code",
      "execution_count": null,
      "id": "afd113ad-9797-4405-acbc-96cb62432d29",
      "metadata": {
        "id": "afd113ad-9797-4405-acbc-96cb62432d29"
      },
      "outputs": [],
      "source": [
        "X_test_p = poly1.transform(X_test)\n",
        "X_test_p4 = poly4.transform(X_test)"
      ]
    },
    {
      "cell_type": "code",
      "source": [
        "logit1.score(X_test_p, y_test)"
      ],
      "metadata": {
        "colab": {
          "base_uri": "https://localhost:8080/"
        },
        "id": "9-x-GJjDzcd8",
        "outputId": "b726344e-8c39-44dc-d429-5a06f8d19510"
      },
      "id": "9-x-GJjDzcd8",
      "execution_count": null,
      "outputs": [
        {
          "output_type": "execute_result",
          "data": {
            "text/plain": [
              "0.6483516483516484"
            ]
          },
          "metadata": {},
          "execution_count": 48
        }
      ]
    },
    {
      "cell_type": "code",
      "source": [
        "logit4.score(X_test_p4, y_test)"
      ],
      "metadata": {
        "colab": {
          "base_uri": "https://localhost:8080/"
        },
        "id": "OH79wmzhzfiA",
        "outputId": "bffc17d4-0d93-4f82-9d33-f2391f230081"
      },
      "id": "OH79wmzhzfiA",
      "execution_count": null,
      "outputs": [
        {
          "output_type": "execute_result",
          "data": {
            "text/plain": [
              "0.6813186813186813"
            ]
          },
          "metadata": {},
          "execution_count": 49
        }
      ]
    },
    {
      "cell_type": "code",
      "source": [
        "n = 100\n",
        "x1 = np.linspace(np.min(X_train[['Age']]), np.max(X_train[['Age']]), n)\n",
        "x2 = np.linspace(np.min(X_train[['MaxHR']]), np.max(X_train[['MaxHR']]), n)"
      ],
      "metadata": {
        "colab": {
          "base_uri": "https://localhost:8080/"
        },
        "id": "OVs6aJGfz4U_",
        "outputId": "78445abd-2ed6-4be0-8d99-47de225b2ad9"
      },
      "id": "OVs6aJGfz4U_",
      "execution_count": null,
      "outputs": [
        {
          "output_type": "stream",
          "name": "stderr",
          "text": [
            "/usr/local/lib/python3.10/dist-packages/numpy/core/fromnumeric.py:84: FutureWarning: In a future version, DataFrame.min(axis=None) will return a scalar min over the entire DataFrame. To retain the old behavior, use 'frame.min(axis=0)' or just 'frame.min()'\n",
            "  return reduction(axis=axis, out=out, **passkwargs)\n",
            "/usr/local/lib/python3.10/dist-packages/numpy/core/fromnumeric.py:84: FutureWarning: In a future version, DataFrame.max(axis=None) will return a scalar max over the entire DataFrame. To retain the old behavior, use 'frame.max(axis=0)' or just 'frame.max()'\n",
            "  return reduction(axis=axis, out=out, **passkwargs)\n",
            "/usr/local/lib/python3.10/dist-packages/numpy/core/fromnumeric.py:84: FutureWarning: In a future version, DataFrame.min(axis=None) will return a scalar min over the entire DataFrame. To retain the old behavior, use 'frame.min(axis=0)' or just 'frame.min()'\n",
            "  return reduction(axis=axis, out=out, **passkwargs)\n",
            "/usr/local/lib/python3.10/dist-packages/numpy/core/fromnumeric.py:84: FutureWarning: In a future version, DataFrame.max(axis=None) will return a scalar max over the entire DataFrame. To retain the old behavior, use 'frame.max(axis=0)' or just 'frame.max()'\n",
            "  return reduction(axis=axis, out=out, **passkwargs)\n"
          ]
        }
      ]
    },
    {
      "cell_type": "code",
      "source": [
        "x1"
      ],
      "metadata": {
        "colab": {
          "base_uri": "https://localhost:8080/"
        },
        "id": "_mpIPDFBz4R1",
        "outputId": "774149cd-f865-439a-aa20-693bb87ebba1"
      },
      "id": "_mpIPDFBz4R1",
      "execution_count": null,
      "outputs": [
        {
          "output_type": "execute_result",
          "data": {
            "text/plain": [
              "array([[29.        ],\n",
              "       [29.48484848],\n",
              "       [29.96969697],\n",
              "       [30.45454545],\n",
              "       [30.93939394],\n",
              "       [31.42424242],\n",
              "       [31.90909091],\n",
              "       [32.39393939],\n",
              "       [32.87878788],\n",
              "       [33.36363636],\n",
              "       [33.84848485],\n",
              "       [34.33333333],\n",
              "       [34.81818182],\n",
              "       [35.3030303 ],\n",
              "       [35.78787879],\n",
              "       [36.27272727],\n",
              "       [36.75757576],\n",
              "       [37.24242424],\n",
              "       [37.72727273],\n",
              "       [38.21212121],\n",
              "       [38.6969697 ],\n",
              "       [39.18181818],\n",
              "       [39.66666667],\n",
              "       [40.15151515],\n",
              "       [40.63636364],\n",
              "       [41.12121212],\n",
              "       [41.60606061],\n",
              "       [42.09090909],\n",
              "       [42.57575758],\n",
              "       [43.06060606],\n",
              "       [43.54545455],\n",
              "       [44.03030303],\n",
              "       [44.51515152],\n",
              "       [45.        ],\n",
              "       [45.48484848],\n",
              "       [45.96969697],\n",
              "       [46.45454545],\n",
              "       [46.93939394],\n",
              "       [47.42424242],\n",
              "       [47.90909091],\n",
              "       [48.39393939],\n",
              "       [48.87878788],\n",
              "       [49.36363636],\n",
              "       [49.84848485],\n",
              "       [50.33333333],\n",
              "       [50.81818182],\n",
              "       [51.3030303 ],\n",
              "       [51.78787879],\n",
              "       [52.27272727],\n",
              "       [52.75757576],\n",
              "       [53.24242424],\n",
              "       [53.72727273],\n",
              "       [54.21212121],\n",
              "       [54.6969697 ],\n",
              "       [55.18181818],\n",
              "       [55.66666667],\n",
              "       [56.15151515],\n",
              "       [56.63636364],\n",
              "       [57.12121212],\n",
              "       [57.60606061],\n",
              "       [58.09090909],\n",
              "       [58.57575758],\n",
              "       [59.06060606],\n",
              "       [59.54545455],\n",
              "       [60.03030303],\n",
              "       [60.51515152],\n",
              "       [61.        ],\n",
              "       [61.48484848],\n",
              "       [61.96969697],\n",
              "       [62.45454545],\n",
              "       [62.93939394],\n",
              "       [63.42424242],\n",
              "       [63.90909091],\n",
              "       [64.39393939],\n",
              "       [64.87878788],\n",
              "       [65.36363636],\n",
              "       [65.84848485],\n",
              "       [66.33333333],\n",
              "       [66.81818182],\n",
              "       [67.3030303 ],\n",
              "       [67.78787879],\n",
              "       [68.27272727],\n",
              "       [68.75757576],\n",
              "       [69.24242424],\n",
              "       [69.72727273],\n",
              "       [70.21212121],\n",
              "       [70.6969697 ],\n",
              "       [71.18181818],\n",
              "       [71.66666667],\n",
              "       [72.15151515],\n",
              "       [72.63636364],\n",
              "       [73.12121212],\n",
              "       [73.60606061],\n",
              "       [74.09090909],\n",
              "       [74.57575758],\n",
              "       [75.06060606],\n",
              "       [75.54545455],\n",
              "       [76.03030303],\n",
              "       [76.51515152],\n",
              "       [77.        ]])"
            ]
          },
          "metadata": {},
          "execution_count": 54
        }
      ]
    },
    {
      "cell_type": "code",
      "source": [
        "x2"
      ],
      "metadata": {
        "colab": {
          "base_uri": "https://localhost:8080/"
        },
        "id": "zDS86nze0tb3",
        "outputId": "6a3081df-0ca9-4dff-9cab-fd90cfc1be7b"
      },
      "id": "zDS86nze0tb3",
      "execution_count": null,
      "outputs": [
        {
          "output_type": "execute_result",
          "data": {
            "text/plain": [
              "array([[ 71.        ],\n",
              "       [ 72.32323232],\n",
              "       [ 73.64646465],\n",
              "       [ 74.96969697],\n",
              "       [ 76.29292929],\n",
              "       [ 77.61616162],\n",
              "       [ 78.93939394],\n",
              "       [ 80.26262626],\n",
              "       [ 81.58585859],\n",
              "       [ 82.90909091],\n",
              "       [ 84.23232323],\n",
              "       [ 85.55555556],\n",
              "       [ 86.87878788],\n",
              "       [ 88.2020202 ],\n",
              "       [ 89.52525253],\n",
              "       [ 90.84848485],\n",
              "       [ 92.17171717],\n",
              "       [ 93.49494949],\n",
              "       [ 94.81818182],\n",
              "       [ 96.14141414],\n",
              "       [ 97.46464646],\n",
              "       [ 98.78787879],\n",
              "       [100.11111111],\n",
              "       [101.43434343],\n",
              "       [102.75757576],\n",
              "       [104.08080808],\n",
              "       [105.4040404 ],\n",
              "       [106.72727273],\n",
              "       [108.05050505],\n",
              "       [109.37373737],\n",
              "       [110.6969697 ],\n",
              "       [112.02020202],\n",
              "       [113.34343434],\n",
              "       [114.66666667],\n",
              "       [115.98989899],\n",
              "       [117.31313131],\n",
              "       [118.63636364],\n",
              "       [119.95959596],\n",
              "       [121.28282828],\n",
              "       [122.60606061],\n",
              "       [123.92929293],\n",
              "       [125.25252525],\n",
              "       [126.57575758],\n",
              "       [127.8989899 ],\n",
              "       [129.22222222],\n",
              "       [130.54545455],\n",
              "       [131.86868687],\n",
              "       [133.19191919],\n",
              "       [134.51515152],\n",
              "       [135.83838384],\n",
              "       [137.16161616],\n",
              "       [138.48484848],\n",
              "       [139.80808081],\n",
              "       [141.13131313],\n",
              "       [142.45454545],\n",
              "       [143.77777778],\n",
              "       [145.1010101 ],\n",
              "       [146.42424242],\n",
              "       [147.74747475],\n",
              "       [149.07070707],\n",
              "       [150.39393939],\n",
              "       [151.71717172],\n",
              "       [153.04040404],\n",
              "       [154.36363636],\n",
              "       [155.68686869],\n",
              "       [157.01010101],\n",
              "       [158.33333333],\n",
              "       [159.65656566],\n",
              "       [160.97979798],\n",
              "       [162.3030303 ],\n",
              "       [163.62626263],\n",
              "       [164.94949495],\n",
              "       [166.27272727],\n",
              "       [167.5959596 ],\n",
              "       [168.91919192],\n",
              "       [170.24242424],\n",
              "       [171.56565657],\n",
              "       [172.88888889],\n",
              "       [174.21212121],\n",
              "       [175.53535354],\n",
              "       [176.85858586],\n",
              "       [178.18181818],\n",
              "       [179.50505051],\n",
              "       [180.82828283],\n",
              "       [182.15151515],\n",
              "       [183.47474747],\n",
              "       [184.7979798 ],\n",
              "       [186.12121212],\n",
              "       [187.44444444],\n",
              "       [188.76767677],\n",
              "       [190.09090909],\n",
              "       [191.41414141],\n",
              "       [192.73737374],\n",
              "       [194.06060606],\n",
              "       [195.38383838],\n",
              "       [196.70707071],\n",
              "       [198.03030303],\n",
              "       [199.35353535],\n",
              "       [200.67676768],\n",
              "       [202.        ]])"
            ]
          },
          "metadata": {},
          "execution_count": 55
        }
      ]
    },
    {
      "cell_type": "code",
      "source": [
        "x1v, x2v = np.meshgrid(x1, x2)"
      ],
      "metadata": {
        "id": "t_CcDDvJ01Yx"
      },
      "id": "t_CcDDvJ01Yx",
      "execution_count": null,
      "outputs": []
    },
    {
      "cell_type": "code",
      "source": [
        "x1v"
      ],
      "metadata": {
        "colab": {
          "base_uri": "https://localhost:8080/"
        },
        "id": "8s01hysp1Geg",
        "outputId": "11f4d48f-1db3-4e41-b2ba-c2e674c7d199"
      },
      "id": "8s01hysp1Geg",
      "execution_count": null,
      "outputs": [
        {
          "output_type": "execute_result",
          "data": {
            "text/plain": [
              "array([[29.        , 29.48484848, 29.96969697, ..., 76.03030303,\n",
              "        76.51515152, 77.        ],\n",
              "       [29.        , 29.48484848, 29.96969697, ..., 76.03030303,\n",
              "        76.51515152, 77.        ],\n",
              "       [29.        , 29.48484848, 29.96969697, ..., 76.03030303,\n",
              "        76.51515152, 77.        ],\n",
              "       ...,\n",
              "       [29.        , 29.48484848, 29.96969697, ..., 76.03030303,\n",
              "        76.51515152, 77.        ],\n",
              "       [29.        , 29.48484848, 29.96969697, ..., 76.03030303,\n",
              "        76.51515152, 77.        ],\n",
              "       [29.        , 29.48484848, 29.96969697, ..., 76.03030303,\n",
              "        76.51515152, 77.        ]])"
            ]
          },
          "metadata": {},
          "execution_count": 58
        }
      ]
    },
    {
      "cell_type": "code",
      "source": [
        "# # (29, 71), (29, 72.3), (29, 73.64)...\n",
        "# (29.48, 71)..."
      ],
      "metadata": {
        "colab": {
          "base_uri": "https://localhost:8080/",
          "height": 143
        },
        "id": "dyLbOxMP1csK",
        "outputId": "00de0aa9-ce1b-4fa1-9939-4104127f7472"
      },
      "id": "dyLbOxMP1csK",
      "execution_count": null,
      "outputs": [
        {
          "output_type": "error",
          "ename": "SyntaxError",
          "evalue": "ignored",
          "traceback": [
            "\u001b[0;36m  File \u001b[0;32m\"<ipython-input-61-2624d9cf0a1c>\"\u001b[0;36m, line \u001b[0;32m1\u001b[0m\n\u001b[0;31m    (29, 71), (29, 72.3), (29, 73.64)...\u001b[0m\n\u001b[0m                                     ^\u001b[0m\n\u001b[0;31mSyntaxError\u001b[0m\u001b[0;31m:\u001b[0m invalid syntax\n"
          ]
        }
      ]
    },
    {
      "cell_type": "code",
      "source": [
        "x1v.shape"
      ],
      "metadata": {
        "colab": {
          "base_uri": "https://localhost:8080/"
        },
        "id": "S8hokkLn1Rum",
        "outputId": "4c8b4e2f-57ed-4782-b862-a9fe40aa0193"
      },
      "id": "S8hokkLn1Rum",
      "execution_count": null,
      "outputs": [
        {
          "output_type": "execute_result",
          "data": {
            "text/plain": [
              "(100, 100)"
            ]
          },
          "metadata": {},
          "execution_count": 59
        }
      ]
    },
    {
      "cell_type": "code",
      "source": [
        "x1v.ravel().shape"
      ],
      "metadata": {
        "colab": {
          "base_uri": "https://localhost:8080/"
        },
        "id": "SC--z_0-1Up0",
        "outputId": "66c36e27-51e7-4ef2-8d6c-c8dc80e5e5e2"
      },
      "id": "SC--z_0-1Up0",
      "execution_count": null,
      "outputs": [
        {
          "output_type": "execute_result",
          "data": {
            "text/plain": [
              "(10000,)"
            ]
          },
          "metadata": {},
          "execution_count": 60
        }
      ]
    },
    {
      "cell_type": "code",
      "source": [
        "X=np.c_[x1v.ravel(), x2v.ravel()]"
      ],
      "metadata": {
        "id": "SFJjSV7V12Gs"
      },
      "id": "SFJjSV7V12Gs",
      "execution_count": null,
      "outputs": []
    },
    {
      "cell_type": "code",
      "source": [
        "X.shape"
      ],
      "metadata": {
        "colab": {
          "base_uri": "https://localhost:8080/"
        },
        "id": "DdJnKCiW2nR1",
        "outputId": "16bfd93e-a3d9-473f-9c0e-e3a041a66d04"
      },
      "id": "DdJnKCiW2nR1",
      "execution_count": null,
      "outputs": [
        {
          "output_type": "execute_result",
          "data": {
            "text/plain": [
              "(10000, 2)"
            ]
          },
          "metadata": {},
          "execution_count": 66
        }
      ]
    },
    {
      "cell_type": "code",
      "source": [
        "X[:20]"
      ],
      "metadata": {
        "colab": {
          "base_uri": "https://localhost:8080/"
        },
        "id": "KsEc8ZIP2nLT",
        "outputId": "63f80a6d-801f-43bd-f28c-d547b873e3cd"
      },
      "id": "KsEc8ZIP2nLT",
      "execution_count": null,
      "outputs": [
        {
          "output_type": "execute_result",
          "data": {
            "text/plain": [
              "array([[29.        , 71.        ],\n",
              "       [29.48484848, 71.        ],\n",
              "       [29.96969697, 71.        ],\n",
              "       [30.45454545, 71.        ],\n",
              "       [30.93939394, 71.        ],\n",
              "       [31.42424242, 71.        ],\n",
              "       [31.90909091, 71.        ],\n",
              "       [32.39393939, 71.        ],\n",
              "       [32.87878788, 71.        ],\n",
              "       [33.36363636, 71.        ],\n",
              "       [33.84848485, 71.        ],\n",
              "       [34.33333333, 71.        ],\n",
              "       [34.81818182, 71.        ],\n",
              "       [35.3030303 , 71.        ],\n",
              "       [35.78787879, 71.        ],\n",
              "       [36.27272727, 71.        ],\n",
              "       [36.75757576, 71.        ],\n",
              "       [37.24242424, 71.        ],\n",
              "       [37.72727273, 71.        ],\n",
              "       [38.21212121, 71.        ]])"
            ]
          },
          "metadata": {},
          "execution_count": 67
        }
      ]
    },
    {
      "cell_type": "code",
      "source": [
        "X[:100]"
      ],
      "metadata": {
        "colab": {
          "base_uri": "https://localhost:8080/"
        },
        "id": "Z64OPPd32sNC",
        "outputId": "e3f331a1-3830-455b-e987-de07610ec382"
      },
      "id": "Z64OPPd32sNC",
      "execution_count": null,
      "outputs": [
        {
          "output_type": "execute_result",
          "data": {
            "text/plain": [
              "array([[29.        , 71.        ],\n",
              "       [29.48484848, 71.        ],\n",
              "       [29.96969697, 71.        ],\n",
              "       [30.45454545, 71.        ],\n",
              "       [30.93939394, 71.        ],\n",
              "       [31.42424242, 71.        ],\n",
              "       [31.90909091, 71.        ],\n",
              "       [32.39393939, 71.        ],\n",
              "       [32.87878788, 71.        ],\n",
              "       [33.36363636, 71.        ],\n",
              "       [33.84848485, 71.        ],\n",
              "       [34.33333333, 71.        ],\n",
              "       [34.81818182, 71.        ],\n",
              "       [35.3030303 , 71.        ],\n",
              "       [35.78787879, 71.        ],\n",
              "       [36.27272727, 71.        ],\n",
              "       [36.75757576, 71.        ],\n",
              "       [37.24242424, 71.        ],\n",
              "       [37.72727273, 71.        ],\n",
              "       [38.21212121, 71.        ],\n",
              "       [38.6969697 , 71.        ],\n",
              "       [39.18181818, 71.        ],\n",
              "       [39.66666667, 71.        ],\n",
              "       [40.15151515, 71.        ],\n",
              "       [40.63636364, 71.        ],\n",
              "       [41.12121212, 71.        ],\n",
              "       [41.60606061, 71.        ],\n",
              "       [42.09090909, 71.        ],\n",
              "       [42.57575758, 71.        ],\n",
              "       [43.06060606, 71.        ],\n",
              "       [43.54545455, 71.        ],\n",
              "       [44.03030303, 71.        ],\n",
              "       [44.51515152, 71.        ],\n",
              "       [45.        , 71.        ],\n",
              "       [45.48484848, 71.        ],\n",
              "       [45.96969697, 71.        ],\n",
              "       [46.45454545, 71.        ],\n",
              "       [46.93939394, 71.        ],\n",
              "       [47.42424242, 71.        ],\n",
              "       [47.90909091, 71.        ],\n",
              "       [48.39393939, 71.        ],\n",
              "       [48.87878788, 71.        ],\n",
              "       [49.36363636, 71.        ],\n",
              "       [49.84848485, 71.        ],\n",
              "       [50.33333333, 71.        ],\n",
              "       [50.81818182, 71.        ],\n",
              "       [51.3030303 , 71.        ],\n",
              "       [51.78787879, 71.        ],\n",
              "       [52.27272727, 71.        ],\n",
              "       [52.75757576, 71.        ],\n",
              "       [53.24242424, 71.        ],\n",
              "       [53.72727273, 71.        ],\n",
              "       [54.21212121, 71.        ],\n",
              "       [54.6969697 , 71.        ],\n",
              "       [55.18181818, 71.        ],\n",
              "       [55.66666667, 71.        ],\n",
              "       [56.15151515, 71.        ],\n",
              "       [56.63636364, 71.        ],\n",
              "       [57.12121212, 71.        ],\n",
              "       [57.60606061, 71.        ],\n",
              "       [58.09090909, 71.        ],\n",
              "       [58.57575758, 71.        ],\n",
              "       [59.06060606, 71.        ],\n",
              "       [59.54545455, 71.        ],\n",
              "       [60.03030303, 71.        ],\n",
              "       [60.51515152, 71.        ],\n",
              "       [61.        , 71.        ],\n",
              "       [61.48484848, 71.        ],\n",
              "       [61.96969697, 71.        ],\n",
              "       [62.45454545, 71.        ],\n",
              "       [62.93939394, 71.        ],\n",
              "       [63.42424242, 71.        ],\n",
              "       [63.90909091, 71.        ],\n",
              "       [64.39393939, 71.        ],\n",
              "       [64.87878788, 71.        ],\n",
              "       [65.36363636, 71.        ],\n",
              "       [65.84848485, 71.        ],\n",
              "       [66.33333333, 71.        ],\n",
              "       [66.81818182, 71.        ],\n",
              "       [67.3030303 , 71.        ],\n",
              "       [67.78787879, 71.        ],\n",
              "       [68.27272727, 71.        ],\n",
              "       [68.75757576, 71.        ],\n",
              "       [69.24242424, 71.        ],\n",
              "       [69.72727273, 71.        ],\n",
              "       [70.21212121, 71.        ],\n",
              "       [70.6969697 , 71.        ],\n",
              "       [71.18181818, 71.        ],\n",
              "       [71.66666667, 71.        ],\n",
              "       [72.15151515, 71.        ],\n",
              "       [72.63636364, 71.        ],\n",
              "       [73.12121212, 71.        ],\n",
              "       [73.60606061, 71.        ],\n",
              "       [74.09090909, 71.        ],\n",
              "       [74.57575758, 71.        ],\n",
              "       [75.06060606, 71.        ],\n",
              "       [75.54545455, 71.        ],\n",
              "       [76.03030303, 71.        ],\n",
              "       [76.51515152, 71.        ],\n",
              "       [77.        , 71.        ]])"
            ]
          },
          "metadata": {},
          "execution_count": 68
        }
      ]
    },
    {
      "cell_type": "code",
      "source": [
        "Xdf=pd.DataFrame(X, columns=['Age', 'MaxHR'])"
      ],
      "metadata": {
        "id": "bkCJ-21722DQ"
      },
      "id": "bkCJ-21722DQ",
      "execution_count": null,
      "outputs": []
    },
    {
      "cell_type": "code",
      "source": [
        "Xdf.head()"
      ],
      "metadata": {
        "colab": {
          "base_uri": "https://localhost:8080/",
          "height": 206
        },
        "id": "X-kNaASB3CL2",
        "outputId": "5296dea1-3c0a-4d82-fc0c-f044a1bc2851"
      },
      "id": "X-kNaASB3CL2",
      "execution_count": null,
      "outputs": [
        {
          "output_type": "execute_result",
          "data": {
            "text/plain": [
              "         Age  MaxHR\n",
              "0  29.000000   71.0\n",
              "1  29.484848   71.0\n",
              "2  29.969697   71.0\n",
              "3  30.454545   71.0\n",
              "4  30.939394   71.0"
            ],
            "text/html": [
              "\n",
              "  <div id=\"df-cc16e4bd-0afb-417e-b1fd-47e402fde955\" class=\"colab-df-container\">\n",
              "    <div>\n",
              "<style scoped>\n",
              "    .dataframe tbody tr th:only-of-type {\n",
              "        vertical-align: middle;\n",
              "    }\n",
              "\n",
              "    .dataframe tbody tr th {\n",
              "        vertical-align: top;\n",
              "    }\n",
              "\n",
              "    .dataframe thead th {\n",
              "        text-align: right;\n",
              "    }\n",
              "</style>\n",
              "<table border=\"1\" class=\"dataframe\">\n",
              "  <thead>\n",
              "    <tr style=\"text-align: right;\">\n",
              "      <th></th>\n",
              "      <th>Age</th>\n",
              "      <th>MaxHR</th>\n",
              "    </tr>\n",
              "  </thead>\n",
              "  <tbody>\n",
              "    <tr>\n",
              "      <th>0</th>\n",
              "      <td>29.000000</td>\n",
              "      <td>71.0</td>\n",
              "    </tr>\n",
              "    <tr>\n",
              "      <th>1</th>\n",
              "      <td>29.484848</td>\n",
              "      <td>71.0</td>\n",
              "    </tr>\n",
              "    <tr>\n",
              "      <th>2</th>\n",
              "      <td>29.969697</td>\n",
              "      <td>71.0</td>\n",
              "    </tr>\n",
              "    <tr>\n",
              "      <th>3</th>\n",
              "      <td>30.454545</td>\n",
              "      <td>71.0</td>\n",
              "    </tr>\n",
              "    <tr>\n",
              "      <th>4</th>\n",
              "      <td>30.939394</td>\n",
              "      <td>71.0</td>\n",
              "    </tr>\n",
              "  </tbody>\n",
              "</table>\n",
              "</div>\n",
              "    <div class=\"colab-df-buttons\">\n",
              "\n",
              "  <div class=\"colab-df-container\">\n",
              "    <button class=\"colab-df-convert\" onclick=\"convertToInteractive('df-cc16e4bd-0afb-417e-b1fd-47e402fde955')\"\n",
              "            title=\"Convert this dataframe to an interactive table.\"\n",
              "            style=\"display:none;\">\n",
              "\n",
              "  <svg xmlns=\"http://www.w3.org/2000/svg\" height=\"24px\" viewBox=\"0 -960 960 960\">\n",
              "    <path d=\"M120-120v-720h720v720H120Zm60-500h600v-160H180v160Zm220 220h160v-160H400v160Zm0 220h160v-160H400v160ZM180-400h160v-160H180v160Zm440 0h160v-160H620v160ZM180-180h160v-160H180v160Zm440 0h160v-160H620v160Z\"/>\n",
              "  </svg>\n",
              "    </button>\n",
              "\n",
              "  <style>\n",
              "    .colab-df-container {\n",
              "      display:flex;\n",
              "      gap: 12px;\n",
              "    }\n",
              "\n",
              "    .colab-df-convert {\n",
              "      background-color: #E8F0FE;\n",
              "      border: none;\n",
              "      border-radius: 50%;\n",
              "      cursor: pointer;\n",
              "      display: none;\n",
              "      fill: #1967D2;\n",
              "      height: 32px;\n",
              "      padding: 0 0 0 0;\n",
              "      width: 32px;\n",
              "    }\n",
              "\n",
              "    .colab-df-convert:hover {\n",
              "      background-color: #E2EBFA;\n",
              "      box-shadow: 0px 1px 2px rgba(60, 64, 67, 0.3), 0px 1px 3px 1px rgba(60, 64, 67, 0.15);\n",
              "      fill: #174EA6;\n",
              "    }\n",
              "\n",
              "    .colab-df-buttons div {\n",
              "      margin-bottom: 4px;\n",
              "    }\n",
              "\n",
              "    [theme=dark] .colab-df-convert {\n",
              "      background-color: #3B4455;\n",
              "      fill: #D2E3FC;\n",
              "    }\n",
              "\n",
              "    [theme=dark] .colab-df-convert:hover {\n",
              "      background-color: #434B5C;\n",
              "      box-shadow: 0px 1px 3px 1px rgba(0, 0, 0, 0.15);\n",
              "      filter: drop-shadow(0px 1px 2px rgba(0, 0, 0, 0.3));\n",
              "      fill: #FFFFFF;\n",
              "    }\n",
              "  </style>\n",
              "\n",
              "    <script>\n",
              "      const buttonEl =\n",
              "        document.querySelector('#df-cc16e4bd-0afb-417e-b1fd-47e402fde955 button.colab-df-convert');\n",
              "      buttonEl.style.display =\n",
              "        google.colab.kernel.accessAllowed ? 'block' : 'none';\n",
              "\n",
              "      async function convertToInteractive(key) {\n",
              "        const element = document.querySelector('#df-cc16e4bd-0afb-417e-b1fd-47e402fde955');\n",
              "        const dataTable =\n",
              "          await google.colab.kernel.invokeFunction('convertToInteractive',\n",
              "                                                    [key], {});\n",
              "        if (!dataTable) return;\n",
              "\n",
              "        const docLinkHtml = 'Like what you see? Visit the ' +\n",
              "          '<a target=\"_blank\" href=https://colab.research.google.com/notebooks/data_table.ipynb>data table notebook</a>'\n",
              "          + ' to learn more about interactive tables.';\n",
              "        element.innerHTML = '';\n",
              "        dataTable['output_type'] = 'display_data';\n",
              "        await google.colab.output.renderOutput(dataTable, element);\n",
              "        const docLink = document.createElement('div');\n",
              "        docLink.innerHTML = docLinkHtml;\n",
              "        element.appendChild(docLink);\n",
              "      }\n",
              "    </script>\n",
              "  </div>\n",
              "\n",
              "\n",
              "<div id=\"df-3ada1f8c-0238-4f7a-8031-9c817015b040\">\n",
              "  <button class=\"colab-df-quickchart\" onclick=\"quickchart('df-3ada1f8c-0238-4f7a-8031-9c817015b040')\"\n",
              "            title=\"Suggest charts.\"\n",
              "            style=\"display:none;\">\n",
              "\n",
              "<svg xmlns=\"http://www.w3.org/2000/svg\" height=\"24px\"viewBox=\"0 0 24 24\"\n",
              "     width=\"24px\">\n",
              "    <g>\n",
              "        <path d=\"M19 3H5c-1.1 0-2 .9-2 2v14c0 1.1.9 2 2 2h14c1.1 0 2-.9 2-2V5c0-1.1-.9-2-2-2zM9 17H7v-7h2v7zm4 0h-2V7h2v10zm4 0h-2v-4h2v4z\"/>\n",
              "    </g>\n",
              "</svg>\n",
              "  </button>\n",
              "\n",
              "<style>\n",
              "  .colab-df-quickchart {\n",
              "      --bg-color: #E8F0FE;\n",
              "      --fill-color: #1967D2;\n",
              "      --hover-bg-color: #E2EBFA;\n",
              "      --hover-fill-color: #174EA6;\n",
              "      --disabled-fill-color: #AAA;\n",
              "      --disabled-bg-color: #DDD;\n",
              "  }\n",
              "\n",
              "  [theme=dark] .colab-df-quickchart {\n",
              "      --bg-color: #3B4455;\n",
              "      --fill-color: #D2E3FC;\n",
              "      --hover-bg-color: #434B5C;\n",
              "      --hover-fill-color: #FFFFFF;\n",
              "      --disabled-bg-color: #3B4455;\n",
              "      --disabled-fill-color: #666;\n",
              "  }\n",
              "\n",
              "  .colab-df-quickchart {\n",
              "    background-color: var(--bg-color);\n",
              "    border: none;\n",
              "    border-radius: 50%;\n",
              "    cursor: pointer;\n",
              "    display: none;\n",
              "    fill: var(--fill-color);\n",
              "    height: 32px;\n",
              "    padding: 0;\n",
              "    width: 32px;\n",
              "  }\n",
              "\n",
              "  .colab-df-quickchart:hover {\n",
              "    background-color: var(--hover-bg-color);\n",
              "    box-shadow: 0 1px 2px rgba(60, 64, 67, 0.3), 0 1px 3px 1px rgba(60, 64, 67, 0.15);\n",
              "    fill: var(--button-hover-fill-color);\n",
              "  }\n",
              "\n",
              "  .colab-df-quickchart-complete:disabled,\n",
              "  .colab-df-quickchart-complete:disabled:hover {\n",
              "    background-color: var(--disabled-bg-color);\n",
              "    fill: var(--disabled-fill-color);\n",
              "    box-shadow: none;\n",
              "  }\n",
              "\n",
              "  .colab-df-spinner {\n",
              "    border: 2px solid var(--fill-color);\n",
              "    border-color: transparent;\n",
              "    border-bottom-color: var(--fill-color);\n",
              "    animation:\n",
              "      spin 1s steps(1) infinite;\n",
              "  }\n",
              "\n",
              "  @keyframes spin {\n",
              "    0% {\n",
              "      border-color: transparent;\n",
              "      border-bottom-color: var(--fill-color);\n",
              "      border-left-color: var(--fill-color);\n",
              "    }\n",
              "    20% {\n",
              "      border-color: transparent;\n",
              "      border-left-color: var(--fill-color);\n",
              "      border-top-color: var(--fill-color);\n",
              "    }\n",
              "    30% {\n",
              "      border-color: transparent;\n",
              "      border-left-color: var(--fill-color);\n",
              "      border-top-color: var(--fill-color);\n",
              "      border-right-color: var(--fill-color);\n",
              "    }\n",
              "    40% {\n",
              "      border-color: transparent;\n",
              "      border-right-color: var(--fill-color);\n",
              "      border-top-color: var(--fill-color);\n",
              "    }\n",
              "    60% {\n",
              "      border-color: transparent;\n",
              "      border-right-color: var(--fill-color);\n",
              "    }\n",
              "    80% {\n",
              "      border-color: transparent;\n",
              "      border-right-color: var(--fill-color);\n",
              "      border-bottom-color: var(--fill-color);\n",
              "    }\n",
              "    90% {\n",
              "      border-color: transparent;\n",
              "      border-bottom-color: var(--fill-color);\n",
              "    }\n",
              "  }\n",
              "</style>\n",
              "\n",
              "  <script>\n",
              "    async function quickchart(key) {\n",
              "      const quickchartButtonEl =\n",
              "        document.querySelector('#' + key + ' button');\n",
              "      quickchartButtonEl.disabled = true;  // To prevent multiple clicks.\n",
              "      quickchartButtonEl.classList.add('colab-df-spinner');\n",
              "      try {\n",
              "        const charts = await google.colab.kernel.invokeFunction(\n",
              "            'suggestCharts', [key], {});\n",
              "      } catch (error) {\n",
              "        console.error('Error during call to suggestCharts:', error);\n",
              "      }\n",
              "      quickchartButtonEl.classList.remove('colab-df-spinner');\n",
              "      quickchartButtonEl.classList.add('colab-df-quickchart-complete');\n",
              "    }\n",
              "    (() => {\n",
              "      let quickchartButtonEl =\n",
              "        document.querySelector('#df-3ada1f8c-0238-4f7a-8031-9c817015b040 button');\n",
              "      quickchartButtonEl.style.display =\n",
              "        google.colab.kernel.accessAllowed ? 'block' : 'none';\n",
              "    })();\n",
              "  </script>\n",
              "</div>\n",
              "    </div>\n",
              "  </div>\n"
            ]
          },
          "metadata": {},
          "execution_count": 72
        }
      ]
    },
    {
      "cell_type": "code",
      "source": [
        "Xdf_p1 = poly1.transform(Xdf)\n",
        "Xdf_p4 = poly4.transform(Xdf)"
      ],
      "metadata": {
        "id": "2ZHUqHSR3EhT"
      },
      "id": "2ZHUqHSR3EhT",
      "execution_count": null,
      "outputs": []
    },
    {
      "cell_type": "code",
      "source": [
        "Xdfp1 = logit1.predict(Xdf_p1)\n",
        "Xdfp4 = logit4.predict(Xdf_p4)"
      ],
      "metadata": {
        "id": "4KzQHI1H3PC_"
      },
      "id": "4KzQHI1H3PC_",
      "execution_count": null,
      "outputs": []
    },
    {
      "cell_type": "code",
      "source": [
        "plt.pcolormash(x1v, x2v)"
      ],
      "metadata": {
        "id": "tvU1yqWJ3Pm9"
      },
      "id": "tvU1yqWJ3Pm9",
      "execution_count": null,
      "outputs": []
    },
    {
      "cell_type": "code",
      "source": [],
      "metadata": {
        "id": "KkzWJeek3fCd"
      },
      "id": "KkzWJeek3fCd",
      "execution_count": null,
      "outputs": []
    },
    {
      "cell_type": "code",
      "source": [],
      "metadata": {
        "id": "gxR6lrhS3e_o"
      },
      "id": "gxR6lrhS3e_o",
      "execution_count": null,
      "outputs": []
    },
    {
      "cell_type": "markdown",
      "id": "add9c477-0bb7-4fd8-99af-873806c0c620",
      "metadata": {
        "id": "add9c477-0bb7-4fd8-99af-873806c0c620"
      },
      "source": [
        "**Q1.3** Compare the two models above on how they create the classification boundary.  Which is more likely to be overfit?  How would regularization affect these boundaries?"
      ]
    },
    {
      "cell_type": "code",
      "source": [],
      "metadata": {
        "id": "HiZ1GSWv2nBM"
      },
      "id": "HiZ1GSWv2nBM",
      "execution_count": null,
      "outputs": []
    },
    {
      "cell_type": "markdown",
      "id": "3c7e90e0-c563-41e4-9caf-5ad44ea2b29b",
      "metadata": {
        "id": "3c7e90e0-c563-41e4-9caf-5ad44ea2b29b"
      },
      "source": [
        "*your answer here*"
      ]
    }
  ],
  "metadata": {
    "kernelspec": {
      "display_name": "Python 3 (ipykernel)",
      "language": "python",
      "name": "python3"
    },
    "language_info": {
      "codemirror_mode": {
        "name": "ipython",
        "version": 3
      },
      "file_extension": ".py",
      "mimetype": "text/x-python",
      "name": "python",
      "nbconvert_exporter": "python",
      "pygments_lexer": "ipython3",
      "version": "3.11.4"
    },
    "colab": {
      "provenance": [],
      "include_colab_link": true
    }
  },
  "nbformat": 4,
  "nbformat_minor": 5
}