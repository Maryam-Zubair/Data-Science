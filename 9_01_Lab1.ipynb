{
  "cells": [
    {
      "cell_type": "markdown",
      "metadata": {
        "id": "view-in-github",
        "colab_type": "text"
      },
      "source": [
        "<a href=\"https://colab.research.google.com/github/Maryam-Zubair/Data-Science/blob/main/9_01_Lab1.ipynb\" target=\"_parent\"><img src=\"https://colab.research.google.com/assets/colab-badge.svg\" alt=\"Open In Colab\"/></a>"
      ]
    },
    {
      "cell_type": "code",
      "execution_count": null,
      "id": "6e111123-6256-4395-9dc3-691b98381030",
      "metadata": {
        "tags": [],
        "id": "6e111123-6256-4395-9dc3-691b98381030"
      },
      "outputs": [],
      "source": [
        "import pandas as pd\n",
        "import numpy as np\n",
        "import random\n",
        "from sklearn.model_selection import train_test_split\n",
        "from sklearn.impute import SimpleImputer\n",
        "from sklearn.preprocessing import StandardScaler, OneHotEncoder\n",
        "from sklearn.compose import ColumnTransformer\n",
        "from sklearn.pipeline import Pipeline\n",
        "from sklearn.svm import SVC\n",
        "from sklearn.metrics import accuracy_score\n",
        "\n",
        "data = pd.read_csv('adult.csv')"
      ]
    },
    {
      "cell_type": "markdown",
      "id": "7adfea4a-192d-4237-bba6-e549765826fe",
      "metadata": {
        "id": "7adfea4a-192d-4237-bba6-e549765826fe"
      },
      "source": [
        "Int his lab assignment, you have two tasks:\n",
        "1. Create a dataset from the `adult.csv` where the new dataset will have columns with random number of missing values. The ratio of missing values should randomly change from 5% to 10%. The numerical columns will have `np.NaN`, and categorical ones will have `?` as missing values.\n",
        "For example,the first column, age, is numerical. It may have a randomly chosen 6% of the age values as missing.\n",
        "At this stage, take they type of each coumn as the datatype. For example, `marital_status` looks like a numerical column at the beginning. Tka it as a numerical column and replace a random percentage of values with `np.NaN`.\n",
        "2. Create a pipeline with transformers and a classifier `SVC(kernel='rbf', C=1, gamma='scale')`. When creating the transformers, make sure that each column is correctly classified as numerical or categorical. For example, `marital_status` may have a `float` data type, but in reality it is a categorical variable. For that reason, you need to update the data types for all categorical variables.Report the accuracy for your model.\n",
        "3. Repeat the second step for the original dataset without any missing values. Compatre your result with that from the second step."
      ]
    },
    {
      "cell_type": "code",
      "execution_count": null,
      "id": "8a7f5f98-b152-4f32-999f-66d6d76aa4bb",
      "metadata": {
        "id": "8a7f5f98-b152-4f32-999f-66d6d76aa4bb"
      },
      "outputs": [],
      "source": [
        "def insert_missing_values(df):\n",
        "    for column in df.columns:\n",
        "        if column != 'income':\n",
        "            is_numeric = pd.api.types.is_numeric_dtype(df[column])\n",
        "            mask = df.sample(frac=np.random.uniform(0.05, 0.1)).index\n",
        "            df.loc[mask, column] = np.nan if is_numeric else '?'\n",
        "    return df"
      ]
    },
    {
      "cell_type": "code",
      "execution_count": null,
      "id": "92c94383",
      "metadata": {
        "id": "92c94383"
      },
      "outputs": [],
      "source": [
        "new_data = insert_missing_values(data.copy())"
      ]
    },
    {
      "cell_type": "code",
      "execution_count": null,
      "id": "7bf70815",
      "metadata": {
        "id": "7bf70815"
      },
      "outputs": [],
      "source": [
        "categorical_cols = ['workclass', 'education', 'marital_status', 'occupation', 'relationship', 'race', 'sex', 'native_country']\n",
        "numerical_cols = ['age', 'fnlwgt', 'education_num', 'capital_gain', 'capital_loss', 'hours_per_week']"
      ]
    },
    {
      "cell_type": "code",
      "execution_count": null,
      "id": "dc9da635",
      "metadata": {
        "id": "dc9da635"
      },
      "outputs": [],
      "source": [
        "for col in categorical_cols:\n",
        "    new_data[col] = new_data[col].astype('category')"
      ]
    },
    {
      "cell_type": "code",
      "execution_count": null,
      "id": "47e97619",
      "metadata": {
        "id": "47e97619"
      },
      "outputs": [],
      "source": [
        "# Define the preprocessing pipelines\n",
        "numeric_transformer = Pipeline(steps=[\n",
        "    ('imputer', SimpleImputer(strategy='median')),\n",
        "    ('scaler', StandardScaler())])\n",
        "\n",
        "categorical_transformer = Pipeline(steps=[\n",
        "    ('imputer', SimpleImputer(strategy='most_frequent')),\n",
        "    ('onehot', OneHotEncoder(handle_unknown='ignore'))])\n",
        "\n",
        "preprocessor = ColumnTransformer(\n",
        "    transformers=[\n",
        "        ('num', numeric_transformer, numerical_cols),\n",
        "        ('cat', categorical_transformer, categorical_cols)])"
      ]
    },
    {
      "cell_type": "code",
      "execution_count": null,
      "id": "43409485",
      "metadata": {
        "id": "43409485"
      },
      "outputs": [],
      "source": [
        "clf = Pipeline(steps=[('preprocessor', preprocessor),\n",
        "                      ('classifier', SVC(kernel='rbf', C=1, gamma='scale'))])"
      ]
    },
    {
      "cell_type": "code",
      "execution_count": null,
      "id": "4cd0875e",
      "metadata": {
        "id": "4cd0875e"
      },
      "outputs": [],
      "source": [
        "# Apply the transformations\n",
        "X = new_data.drop('income', axis=1)\n",
        "y = new_data['income']\n",
        "X_train, X_test, y_train, y_test = train_test_split(X, y, test_size=0.2, random_state=0)"
      ]
    },
    {
      "cell_type": "code",
      "execution_count": null,
      "id": "8df5dc47",
      "metadata": {
        "colab": {
          "base_uri": "https://localhost:8080/"
        },
        "id": "8df5dc47",
        "outputId": "9b7e8b81-9883-455c-bbd9-29be22d75c39"
      },
      "outputs": [
        {
          "output_type": "stream",
          "name": "stdout",
          "text": [
            "model score: 0.571\n"
          ]
        }
      ],
      "source": [
        "clf.fit(X_train, y_train)\n",
        "print(\"model score: %.3f\" % clf.score(X_test, y_test))"
      ]
    },
    {
      "cell_type": "markdown",
      "id": "8052a1ec",
      "metadata": {
        "id": "8052a1ec"
      },
      "source": [
        "Now We Do it with original data without putting missing values"
      ]
    },
    {
      "cell_type": "code",
      "execution_count": null,
      "id": "2d457cb0",
      "metadata": {
        "id": "2d457cb0",
        "outputId": "9fcfe3d7-9ae8-458a-d144-397a59fcfeb7"
      },
      "outputs": [
        {
          "name": "stdout",
          "output_type": "stream",
          "text": [
            "model score with original data: 0.573\n"
          ]
        }
      ],
      "source": [
        "# Now with original unedited data\n",
        "X = data.drop('income', axis=1)\n",
        "y = data['income']\n",
        "X_train, X_test, y_train, y_test = train_test_split(X, y, test_size=0.2, random_state=0)\n",
        "\n",
        "clf.fit(X_train, y_train)\n",
        "print(\"model score with original data: %.3f\" % clf.score(X_test, y_test))"
      ]
    }
  ],
  "metadata": {
    "kernelspec": {
      "display_name": "projectgpt",
      "language": "python",
      "name": "projectgpt"
    },
    "language_info": {
      "codemirror_mode": {
        "name": "ipython",
        "version": 3
      },
      "file_extension": ".py",
      "mimetype": "text/x-python",
      "name": "python",
      "nbconvert_exporter": "python",
      "pygments_lexer": "ipython3",
      "version": "3.11.6"
    },
    "vscode": {
      "interpreter": {
        "hash": "6ae09e7977a3c55320e8b5800a9599d35278ae451691d14b9a57bf5f97467b17"
      }
    },
    "colab": {
      "provenance": [],
      "include_colab_link": true
    }
  },
  "nbformat": 4,
  "nbformat_minor": 5
}